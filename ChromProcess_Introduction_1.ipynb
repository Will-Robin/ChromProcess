{
 "cells": [
  {
   "cell_type": "markdown",
   "id": "0dc27296",
   "metadata": {},
   "source": [
    "# ChromProcess Introduction Part 1\n",
    "\n",
    "This series of notebooks runs through one possible way of using the code contained in ChromProcess, thereby introducing its core functionality. These notebooks should work fine in the folder they are found in if ChromProcess can be imported (see installation instructions). ChromProcessIntroduction_1 shows how chromatograms and their associated data can be loaded and how peak information can be extracted from them and stored.\n",
    "\n",
    "# What is ChromProcess?\n",
    "\n",
    "ChromProcess is a collection of Python functions and objects which provide a framework for manipulating sets of chromatographic data. The code is currently flexible enough to work with what we deal with in the [Huck Lab](https://www.hucklab.com).\n",
    "\n",
    "There are several types of information required to reproducibly assign and/or quantify chromatographic peaks. ChromProcess is one way of interfacing these various information sources. By 'interfacing', I mean placing the data in in an appropriate format and organisational structure.\n",
    "\n",
    "# Source Files\n",
    "\n",
    "## Experiment-specific files\n",
    "\n",
    "Experimental data and 'metadata' (primary data), go in the front of the analysis pipeline. Files containing information about the experiment should not be altered during analysis. Primary data files consist of several chromatographic data files (as of writing ChromProcess can load `.cdf`, `.txt` or `.csv` format) and a conditions file (comma-separated values `.csv`). The chromatographic data files should be named in such a way that they can be sorted programatically. For example, the sequence `chrom_001.csv`, `chrom_002.csv`, `chrom_003.csv` would be appropriate. The structure and contents of an example conditions file are shown below."
   ]
  },
  {
   "cell_type": "code",
   "execution_count": 1,
   "id": "3ae1c9ed",
   "metadata": {},
   "outputs": [
    {
     "name": "stdout",
     "output_type": "stream",
     "text": [
      "Dataset: example_dataset_name\n",
      "start_experiment_information: \n",
      "Series_values: 10,20,30\n",
      "Series_unit: time/ s\n",
      "end_experiment_information: \n",
      "start_conditions: \n",
      "dihydroxyacetone/ M: 2\n",
      "formaldehyde/ M: 2\n",
      "NaOH/ M: 0.12\n",
      "CaCl2/ M: 0.06\n",
      "water/ M: 0\n",
      "end_conditions: \n"
     ]
    }
   ],
   "source": [
    "import csv\n",
    "\n",
    "with open('Sample_analysis/Example/ExperimentalData/example_conditions.csv', \"r\") as f:\n",
    "    csv_reader = csv.reader(f, delimiter=',')\n",
    "    for row in csv_reader:\n",
    "        line = row[0] + ': '\n",
    "        line += ','.join([x for x in row[1:] if x != ''])\n",
    "        print(line)"
   ]
  },
  {
   "cell_type": "markdown",
   "id": "479c2259",
   "metadata": {},
   "source": [
    "- Dataset: Reference code for the experiment\n",
    "- start_experiment_information: # tag for experiment information field\n",
    "- series_values: ordered values associated with the chromatograms (e.g. timepoints)\n",
    "- series_unit: the units for series_values; format: {name}/ {unit}\n",
    "- end_experiment_information: # tag for experiment information field\n",
    "- start_conditions: # tag for experiment conditions field\n",
    "    - Information between these two tags forms key: list pairs, e.g.\n",
    "        - formaldehyde_concentration/ M, 0.2\n",
    "        - water_flow_rate/ L/h, 0.1, 0.005, 0.0001 \n",
    "- end_conditions: # tag for experiment conditions field"
   ]
  },
  {
   "cell_type": "markdown",
   "id": "3956e4b4",
   "metadata": {},
   "source": [
    "Keeping track of the operations performed on the primary data is an important component of a reproducible pipeline. To record and input details of analysis operations, an analysis details file (`.csv`) is also included alongside the primary data. The structure and contents of an example analysis file are shown below."
   ]
  },
  {
   "cell_type": "code",
   "execution_count": 2,
   "id": "a40e5f04",
   "metadata": {},
   "outputs": [
    {
     "name": "stdout",
     "output_type": "stream",
     "text": [
      "Dataset: example_dataset_name\n",
      "Method: GCMS\n",
      "Instrument: GCv Agilent/JEOL\n",
      "Instrument_method: Method 5\n",
      "Derivatisation_method: 75 uL EtONH2.HCl; 30 mins @ 70 oC; 25 uL N;O-Bis(trimethylsilyl)trifluoroacetamide; 30 mins @ 70 oC; dilution to 200 uL with internal standard solution\n",
      "Calibration_model: quadratic\n",
      "Calibration_file: 2020_03_16_GCMS_Calibrations.csv\n",
      "Regions: 7.4,8.4,10.2,11.2,12.8,14.0\n",
      "Internal_standard_region: 6.6,6.79\n",
      "Extract_mass_spectra: FALSE\n",
      "Mass_spectra_filter: 500\n",
      "Peak_pick_threshold: 0.1\n",
      "Dilution_factor: 5.714285714\n",
      "Dilution_factor_error: 0.0447\n",
      "Internal_standard_concentration: 0.0008\n",
      "Internal_standard_concentration_error: 9.89E-06\n"
     ]
    }
   ],
   "source": [
    "with open('Sample_analysis/Example/Analysis/example_analysis_details.csv', \"r\") as f:\n",
    "    csv_reader = csv.reader(f, delimiter=',')\n",
    "    for row in csv_reader:\n",
    "        line = row[0] + ': '\n",
    "        line += ','.join([x for x in row[1:] if x != ''])\n",
    "        print(line)"
   ]
  },
  {
   "cell_type": "markdown",
   "id": "921d489f",
   "metadata": {},
   "source": [
    "The fields are as follows:\n",
    "\n",
    "- Dataset: Experiment code\n",
    "- Method: Analysis method used to collect the data (e.g. GCMS or HPLC).\n",
    "- regions: pairs of lower, upper retention times which outline regions of the chromatogram in which the program will search for peaks.\n",
    "- internal_standard_region: a pair of lower, upper bounds between which the internal standard (internal standard) should lie.\n",
    "- extract_mass_spectra: whether to extract mass spectra information from the files during the analysis (TRUE) or not (FALSE).\n",
    "- peak_pick_threshold: Threshold (as a fraction of the highest signal in a region) above which peaks will be detected.\n",
    "- dilution_factor: Dilution factor applied during sample preparation (multiplying the concentrations derived from peak integrals by this value will convert them into those present in the unprepared sample)\n",
    "- dilution_factor_error: standard error for the dilution factor.\n",
    "- internal_standard_concentration: Concentration of the internal standard (internal standard)\n",
    "- internal_standard_concentration_error: Standard error of the concentration of the internal standard (internal standard)."
   ]
  },
  {
   "cell_type": "markdown",
   "id": "b4e21b5e",
   "metadata": {},
   "source": [
    "Additionally, a local assignments file (initially an empty `.csv` file) can be added to the project. These files can be arranged in folders however you wish. Whichever organisation scheme used must be systematic. An example struture is shown below:"
   ]
  },
  {
   "cell_type": "raw",
   "id": "9acec8cf",
   "metadata": {},
   "source": [
    "EXPCODE\n",
    "├── Analysis\n",
    "│   ├── EXPCODE_analysis_details.csv\n",
    "│   └── EXPCODE_local_assignments.csv\n",
    "└── Data\n",
    "    ├── EXPCODE_conditions.csv\n",
    "    ├── EXPCODE_chrom_001.csv\n",
    "    ├── EXPCODE_chrom_002.csv\n",
    "    └── EXPCODE_chrom_003.csv"
   ]
  },
  {
   "cell_type": "markdown",
   "id": "45cca137",
   "metadata": {},
   "source": [
    "## Files applicable to several experiments\n",
    "\n",
    "Calibration information for an instrument may be applicable to one or more sets of data. This information can therefore be stored separately from the primary data. Alternatively, a copy of a calibration file can be included within the directory of each experiment. This method has the benefit of providing a more unambiguous association of the data to the calibration. On the other hand, if changes must be made to a calibration file (e.g. adding a new calibration for a compound), multiple files must be updated which may be more labour-intensive and error-prone. Either way, creating a file which assigns each experiment to a calibration file (including paths to each file) is beneficial, as is creating a workflow for updating analyses in response to changes to the source files."
   ]
  },
  {
   "cell_type": "markdown",
   "id": "2b17a7e6",
   "metadata": {},
   "source": [
    "# Overview of an Example Analysis Pipeline\n",
    "\n",
    "The first step is to create peak table files containing peak positions, boundaries and integrals for each chromatogram. Each chromatogram is loaded in as a `Chromatogram` object. The analysis and conditions files are also loaded as `Analysis_Information` and `Experiment_Conditions` objects, respectively. Information in the analysis file is used to find peaks in each chromatogram before each peak is integrated. The `Chromatogram` can then be used to create a peak table with associated condition information, if required."
   ]
  },
  {
   "cell_type": "markdown",
   "id": "c13e8ccf",
   "metadata": {},
   "source": [
    "Before beginning the analysis, the chromatograms should be inspected and information should be input into the analysis file as appropriate (regions, concentrations, etc.). First, the source files are directly converted into objects:"
   ]
  },
  {
   "cell_type": "code",
   "execution_count": 3,
   "id": "e6f76e86",
   "metadata": {},
   "outputs": [],
   "source": [
    "import os\n",
    "from ChromProcess.Loading import chrom_from_csv\n",
    "\n",
    "chromatogram_directory = 'Sample_analysis/Example/ExperimentalData/ExampleChromatograms'\n",
    "chromatogram_files = os.listdir(chromatogram_directory)\n",
    "chromatogram_files.sort()\n",
    "chroms = []\n",
    "for f in chromatogram_files:\n",
    "    chroms.append(chrom_from_csv(f'{chromatogram_directory}/{f}'))"
   ]
  },
  {
   "cell_type": "markdown",
   "id": "80d938e8",
   "metadata": {},
   "source": [
    "Before proceeding with the analysis, the chromatograms are inspected for quality (up to you as a scientist!) and for regions to be selected for peak picking. The plots can be generated by any plotting method that you are comfortable with. Below is an example using `matplotlib`.\n",
    "\n",
    "When picking regions for peak picking, the idea is to select regions in the chromatogram in which the peaks have similar intensities. An arbitrary number of boundaries can be input. At one extreme, a single boundary for the beginning and end of the chromatogram can be use. At the other logical extreme, boundaries for individual peaks can be input. Bear in mind that the current implementation of peak picking does not account for retention time drift between chromatograms, and the regions passed to each chromatogram are the same. Therefore, 'manual' peak picking in the manner may not be accurate."
   ]
  },
  {
   "cell_type": "code",
   "execution_count": 4,
   "id": "52eb8fcc",
   "metadata": {},
   "outputs": [
    {
     "data": {
      "image/png": "[encoded data removed]",
      "text/plain": [
       "<Figure size 432x288 with 1 Axes>"
      ]
     },
     "metadata": {
      "needs_background": "light"
     },
     "output_type": "display_data"
    }
   ],
   "source": [
    "import matplotlib.pyplot as plt\n",
    "\n",
    "fig, ax = plt.subplots()\n",
    "\n",
    "for c in chroms:\n",
    "    ax.plot(c.time, c.signal, label = c.filename)\n",
    "plt.show()"
   ]
  },
  {
   "cell_type": "code",
   "execution_count": 5,
   "id": "e308289f",
   "metadata": {},
   "outputs": [],
   "source": [
    "from ChromProcess.Loading import analysis_from_csv\n",
    "from ChromProcess.Loading import conditions_from_csv\n",
    "conditions_file = 'Sample_analysis/Example/ExperimentalData/example_conditions.csv'\n",
    "analysis_file = 'Sample_analysis/Example/Analysis/example_analysis_details.csv'\n",
    "conditions = conditions_from_csv(conditions_file)\n",
    "analysis = analysis_from_csv(analysis_file)"
   ]
  },
  {
   "cell_type": "markdown",
   "id": "a7b6eea2",
   "metadata": {},
   "source": [
    "Next, a peak for the internal standard is picked using information in `analysis` (the function modifies the chromatogram object passed to it by inserting the internal standard information, currently, only one internal standard is supported). This step assumes that the internal standard selected in the chromatograms is a single peak, with no peaks originating from the sample overlapping it (within the `analysis.internal_standard_region`)."
   ]
  },
  {
   "cell_type": "code",
   "execution_count": 6,
   "id": "7a2ff662",
   "metadata": {},
   "outputs": [],
   "source": [
    "from ChromProcess.Processing import internal_standard_integral\n",
    "\n",
    "is_start = analysis.internal_standard_region[0]\n",
    "is_end = analysis.internal_standard_region[1]\n",
    "for c in chroms:\n",
    "    internal_standard_integral(c, is_start, is_end)"
   ]
  },
  {
   "cell_type": "markdown",
   "id": "fec3bd82",
   "metadata": {},
   "source": [
    "Information from `analysis` (originating in the analysis information file described above) is again used to pick peaks in defined regions of each chromatogram. The functions add peak information into chromatograms."
   ]
  },
  {
   "cell_type": "code",
   "execution_count": 7,
   "id": "d13fbc07",
   "metadata": {},
   "outputs": [],
   "source": [
    "from ChromProcess.Processing import find_peaks_in_region\n",
    "from ChromProcess.Processing import add_peaks_to_chromatogram\n",
    "from ChromProcess.Processing import integrate_chromatogram_peaks\n",
    "\n",
    "threshold = analysis.peak_pick_threshold\n",
    "for chrom in chroms:\n",
    "    for reg in analysis.regions:\n",
    "            peaks = find_peaks_in_region(\n",
    "                                            chrom, \n",
    "                                            reg[0], \n",
    "                                            reg[1], \n",
    "                                            threshold = threshold \n",
    "                                        )\n",
    "            add_peaks_to_chromatogram(peaks, chrom)\n",
    "            integrate_chromatogram_peaks(chrom)"
   ]
  },
  {
   "cell_type": "markdown",
   "id": "ccc5a928",
   "metadata": {},
   "source": [
    "Inspecting peak picking:"
   ]
  },
  {
   "cell_type": "code",
   "execution_count": 8,
   "id": "8b19a2de",
   "metadata": {},
   "outputs": [
    {
     "data": {
      "image/png": "[encoded data removed]",
      "text/plain": [
       "<Figure size 1440x360 with 1 Axes>"
      ]
     },
     "metadata": {
      "needs_background": "light"
     },
     "output_type": "display_data"
    }
   ],
   "source": [
    "test_chromatogram = chroms[0]\n",
    "\n",
    "time = test_chromatogram.time\n",
    "signal = test_chromatogram.signal\n",
    "\n",
    "fig, ax = plt.subplots(figsize = (20,5))\n",
    "ax.plot(time, signal, c = 'k', zorder = 0)\n",
    "for c,pk in enumerate(test_chromatogram.peaks):\n",
    "    idx = test_chromatogram.peaks[pk].indices\n",
    "    ax.plot(time[idx], signal[idx], c= 'r', zorder  = 1)\n",
    "  \n",
    "plt.show()"
   ]
  },
  {
   "cell_type": "markdown",
   "id": "c0611620",
   "metadata": {},
   "source": [
    "Peaks collections can then be written directly from each `Chromatogram` whilst inserting information from conditions files if required. Note here that the ordering of chromatograms must be the same as the order or series values in the conditions file."
   ]
  },
  {
   "cell_type": "code",
   "execution_count": 9,
   "id": "c5a01d37",
   "metadata": {},
   "outputs": [],
   "source": [
    "import os\n",
    "# Output peak collection\n",
    "peak_collection_directory = 'Sample_analysis/Example/ExperimentalData/ExamplePeakCollections'\n",
    "\n",
    "os.makedirs(peak_collection_directory, exist_ok = True)\n",
    "for c,v in zip(chroms, conditions.series_values):\n",
    "    c.write_peak_collection(filename = f'{peak_collection_directory}/{c.filename}',\n",
    "                        header_text = f\"{conditions.series_unit},{v}\\n\",\n",
    "                        )"
   ]
  },
  {
   "cell_type": "markdown",
   "id": "5d98101f",
   "metadata": {},
   "source": [
    "It make also be convenient to store the chromatographic signals in a simple `.csv` format for use with other software. These files can be created using one of Chromatogram's methods:"
   ]
  },
  {
   "cell_type": "code",
   "execution_count": 10,
   "id": "46bf89e7",
   "metadata": {},
   "outputs": [],
   "source": [
    "chromatogram_output_folder = 'Sample_analysis/Example/ExperimentalData/ChromatogramCSV'\n",
    "for c in chroms:\n",
    "    c.write_to_csv(filename = f'{chromatogram_output_folder}/{c.filename}')"
   ]
  },
  {
   "cell_type": "markdown",
   "id": "318922c9",
   "metadata": {},
   "source": [
    "Peaks can also be loaded from peak_collection csv files."
   ]
  },
  {
   "cell_type": "code",
   "execution_count": 11,
   "id": "6e889d07",
   "metadata": {},
   "outputs": [],
   "source": [
    "from ChromProcess.Loading.peak.peak_from_csv import peak_from_csv\n",
    "\n",
    "for c, chrom in enumerate(chroms, 1):\n",
    "    peak_file = f\"{peak_collection_directory}/chrom_00{c}.csv\"\n",
    "    peak_features = peak_from_csv(peak_file, chrom)\n",
    "    add_peaks_to_chromatogram(peak_features, chrom)"
   ]
  },
  {
   "cell_type": "markdown",
   "id": "a3a1cd39",
   "metadata": {},
   "source": [
    "That concludes this tutorial notebook. The next tutorial notebook will deal with processing the peak tables into series data."
   ]
  }
 ],
 "metadata": {
  "interpreter": {
   "hash": "a997ae80aa0286501e47f8248d7ef251844f3cf244f8d29620a956e814500880"
  },
  "kernelspec": {
   "display_name": "chromprocess-env",
   "language": "python",
   "name": "chromprocess-env"
  },
  "language_info": {
   "codemirror_mode": {
    "name": "ipython",
    "version": 3
   },
   "file_extension": ".py",
   "mimetype": "text/x-python",
   "name": "python",
   "nbconvert_exporter": "python",
   "pygments_lexer": "ipython3",
   "version": "3.9.7"
  }
 },
 "nbformat": 4,
 "nbformat_minor": 5
}
