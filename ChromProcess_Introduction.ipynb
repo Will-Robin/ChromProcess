{
 "cells": [
  {
   "cell_type": "markdown",
   "id": "93a96ddf",
   "metadata": {},
   "source": [
    "# Using ChromProcess\n",
    "\n",
    "This document runs through one possible way of using the code contained in ChromProcess, thereby introducing its core functionality.\n",
    "\n",
    "# What is ChromProcess?\n",
    "\n",
    "ChromProcess is a collection of Python functions and objects which provide a framework for manipulating sets of chromatographic data. The code is currently flexible enough to work with what we deal with in the [Huck Lab](https://www.hucklab.com). Development will be required going into the future.\n",
    "\n",
    "There are several types of information required to reproducibly assign and/or quantify chromatographic peaks. ChromProcess is one way of interfacing these various information sources.\n",
    "\n",
    "# Source Files\n",
    "\n",
    "## Experiment-specific files\n",
    "\n",
    "Experimental data and 'metadata' (primary data), go in the front of the analysis pipeline. Files containing information about the experiment should not be altered during analysis. Primary data files consist of several chromatographic data files (as of writing ChromProcess can load `.cdf`, `.txt` or `.csv` format) and a conditions file (comma-separated values `.csv`). The chromatographic data files should be named in such a way that they can be sorted programatically. For example, the sequence `chrom_001.csv`, `chrom_002.csv`, `chrom_003.csv` would be appropriate. The structure and contents of an example conditions file are shown below."
   ]
  },
  {
   "cell_type": "code",
   "execution_count": 13,
   "id": "af4e6ec3",
   "metadata": {},
   "outputs": [
    {
     "name": "stdout",
     "output_type": "stream",
     "text": [
      "Dataset: example_dataset_name\n",
      "start_experiment_information: \n",
      "series_values: 10,20,30\n",
      "series_unit: time/ s\n",
      "end_experiment_information: \n",
      "start_conditions: \n",
      "dihydroxyacetone/ M: 2\n",
      "formaldehyde/ M: 2\n",
      "NaOH/ M: 0.12\n",
      "CaCl2/ M: 0.06\n",
      "water/ M: 0\n",
      "end_conditions: \n"
     ]
    }
   ],
   "source": [
    "import csv\n",
    "\n",
    "with open('../Templates/example_conditions.csv', \"r\") as f:\n",
    "    csv_reader = csv.reader(f, delimiter=',')\n",
    "    for row in csv_reader:\n",
    "        line = row[0] + ': '\n",
    "        line += ','.join([x for x in row[1:] if x != ''])\n",
    "        print(line)"
   ]
  },
  {
   "cell_type": "markdown",
   "id": "78b5d91d",
   "metadata": {},
   "source": [
    "- Dataset: Reference code for the experiment\n",
    "- start_experiment_information: # tag for experiment information field\n",
    "- series_values: ordered values associated with the chromatograms (e.g. timepoints)\n",
    "- series_unit: the units for series_values; format: {name}/ {unit}\n",
    "- end_experiment_information: # tag for experiment information field\n",
    "- start_conditions: # tag for experiment conditions field\n",
    "    - Information between these two tags forms key: list pairs, e.g.\n",
    "        - formaldehyde_concentration/ M, 0.2\n",
    "        - water_flow_rate/ L/h, 0.1, 0.005, 0.0001 \n",
    "- end_conditions: # tag for experiment conditions field"
   ]
  },
  {
   "cell_type": "markdown",
   "id": "83a4fb30",
   "metadata": {},
   "source": [
    "Keeping track of the operations performed on the primary data is an important component of a reproducible pipeline. To record and input details of analysis operations, an analysis details file (`.csv`) is also included alongside the primary data. The structure and contents of an example analysis file are shown below."
   ]
  },
  {
   "cell_type": "code",
   "execution_count": 6,
   "id": "be2f40b1",
   "metadata": {},
   "outputs": [
    {
     "name": "stdout",
     "output_type": "stream",
     "text": [
      "Dataset: example_dataset_name\n",
      "Method: GCMS\n",
      "regions: lower (float),upper (float),lower (float),upper (float)\n",
      "internal_reference_region: lower (float),upper (float)\n",
      "extract_mass_spectra: TRUE\n",
      "mass_spectra_filter: 500\n",
      "peak_pick_threshold: 0.1\n",
      "dilution_factor: 5.714285714\n",
      "dilution_factor_error: 0.0447\n",
      "internal_ref_concentration: 0.0008\n",
      "internal_ref_concentration_error: 9.89E-06\n"
     ]
    }
   ],
   "source": [
    "with open('../Templates/example_analysis_details.csv', \"r\") as f:\n",
    "    csv_reader = csv.reader(f, delimiter=',')\n",
    "    for row in csv_reader:\n",
    "        line = row[0] + ': '\n",
    "        line += ','.join([x for x in row[1:] if x != ''])\n",
    "        print(line)"
   ]
  },
  {
   "cell_type": "markdown",
   "id": "61f5e16f",
   "metadata": {},
   "source": [
    "The fields are as follows:\n",
    "\n",
    "- Dataset: Experiment code\n",
    "- Method: Analysis method used to collect the data (e.g. GCMS or HPLC).\n",
    "- regions: pairs of lower, upper retention times which outline regions of the chromatogram in which the program will search for peaks.\n",
    "- internal_reference_region: a pair of lower, upper bounds between which the internnal reference (internal standard) should lie.\n",
    "- extract_mass_spectra: whether to extract mass spectra information from the files during the analysis (TRUE) or not (FALSE).\n",
    "- peak_pick_threshold: Threshold (as a fraction of the highest signal in a region) above which peaks will be detected.\n",
    "- dilution_factor: Dilution factor applied during sample preparation (multiplying the concentrations derived from peak integrals by this value will convert them into those present in the unprepared sample)\n",
    "- dilution_factor_error: standard error for the dilution factor.\n",
    "- internal_ref_concentration: Concentration of the internal reference (internal standard)\n",
    "- internal_ref_concentration_error: Standard error of the concentration of the internal reference (internal standard)."
   ]
  },
  {
   "cell_type": "markdown",
   "id": "8db5bf1b",
   "metadata": {},
   "source": [
    "Additionally, a local assignments file (initially an empty `.csv` file) can be added to the project. These files can be arranged in folders however you wish. Whichever organisation scheme used must be systematic. An example struture is shown below:"
   ]
  },
  {
   "cell_type": "raw",
   "id": "07c97e75",
   "metadata": {},
   "source": [
    "EXPCODE\n",
    "├── Analysis\n",
    "│   ├── EXPCODE_analysis_details.csv\n",
    "│   └── EXPCODE_local_assignments.csv\n",
    "└── Data\n",
    "    ├── EXPCODE_conditions.csv\n",
    "    ├── EXPCODE_chrom_001.csv\n",
    "    ├── EXPCODE_chrom_002.csv\n",
    "    └── EXPCODE_chrom_003.csv"
   ]
  },
  {
   "cell_type": "markdown",
   "id": "4a77ac43",
   "metadata": {},
   "source": [
    "## Files applicable to several experiments\n",
    "\n",
    "Calibration information for an instrument may be applicable to one or more sets of data. This information can therefore be stored separately from the primary data. Alternatively, a copy of a calibration file can be included within the directory of each experiment. This method has the benefit of providing a more unambiguous association of the data to the calibration. On the other hand, if changes must be made to a calibration file (e.g. adding a new calibration for a compound), multiple files must be updated which may be more labour-intensive and error-prone. Either way, creating a file which assigns each experiment to a calibration file (including paths to each file) is beneficial, as is creating a workflow for updating analyses in response to changes to the source files."
   ]
  },
  {
   "cell_type": "markdown",
   "id": "fd9bfa77",
   "metadata": {},
   "source": [
    "# Overview of an Example Analysis Pipeline\n",
    "\n",
    "The first step is to create peak table files containing peak positions, boundaries and integrals for each chromatogram. Each chromatogram is loaded in as a `Chromatogram` object. The analysis and conditions files are also loaded as `Analysis_Information` and `Experiment_Conditions` objects, respectively. Information in the analysis file is used to find peaks in each chromatogram before each peak is integrated. The `Chromatogram` can then be used to create a peak table with associated condition information, if required."
   ]
  },
  {
   "cell_type": "markdown",
   "id": "472b3bd8",
   "metadata": {},
   "source": [
    "Before beginning the analysis, the chromatograms should be inspected and information should be input into the analysis file as appropriate (regions, concentrations, etc.). First, the source files are directly converted into objects:"
   ]
  },
  {
   "cell_type": "code",
   "execution_count": 10,
   "id": "e0c65453",
   "metadata": {
    "collapsed": true,
    "jupyter": {
     "outputs_hidden": true
    }
   },
   "outputs": [
    {
     "ename": "FileNotFoundError",
     "evalue": "[Errno 2] No such file or directory: '../Templates/example_conditions.csv'",
     "output_type": "error",
     "traceback": [
      "\u001b[0;31m---------------------------------------------------------------------------\u001b[0m",
      "\u001b[0;31mFileNotFoundError\u001b[0m                         Traceback (most recent call last)",
      "\u001b[0;32m<ipython-input-10-91e66c898880>\u001b[0m in \u001b[0;36m<module>\u001b[0;34m\u001b[0m\n\u001b[1;32m      4\u001b[0m \u001b[0manalysis_file\u001b[0m \u001b[0;34m=\u001b[0m \u001b[0;34m'../Templates/example_analysis_details.csv'\u001b[0m\u001b[0;34m\u001b[0m\u001b[0;34m\u001b[0m\u001b[0m\n\u001b[1;32m      5\u001b[0m \u001b[0mchromatogram_directory\u001b[0m \u001b[0;34m=\u001b[0m \u001b[0;34m'../Templates/ExampleChromatograms'\u001b[0m\u001b[0;34m\u001b[0m\u001b[0;34m\u001b[0m\u001b[0m\n\u001b[0;32m----> 6\u001b[0;31m \u001b[0mconditions\u001b[0m \u001b[0;34m=\u001b[0m \u001b[0mClasses\u001b[0m\u001b[0;34m.\u001b[0m\u001b[0mExperiment_Conditions\u001b[0m\u001b[0;34m(\u001b[0m\u001b[0minformation_file\u001b[0m \u001b[0;34m=\u001b[0m \u001b[0mconditions_file\u001b[0m\u001b[0;34m)\u001b[0m\u001b[0;34m\u001b[0m\u001b[0;34m\u001b[0m\u001b[0m\n\u001b[0m\u001b[1;32m      7\u001b[0m \u001b[0manalysis\u001b[0m \u001b[0;34m=\u001b[0m \u001b[0mClasses\u001b[0m\u001b[0;34m.\u001b[0m\u001b[0mAnalysis_Information\u001b[0m\u001b[0;34m(\u001b[0m\u001b[0minformation_file\u001b[0m \u001b[0;34m=\u001b[0m \u001b[0manalysis_file\u001b[0m\u001b[0;34m)\u001b[0m\u001b[0;34m\u001b[0m\u001b[0;34m\u001b[0m\u001b[0m\n\u001b[1;32m      8\u001b[0m \u001b[0;34m\u001b[0m\u001b[0m\n",
      "\u001b[0;32m~/Documents/Software/ChromProcess/ChromProcess/Classes/Metadata.py\u001b[0m in \u001b[0;36m__init__\u001b[0;34m(self, information_file)\u001b[0m\n\u001b[1;32m    177\u001b[0m             \u001b[0;32mpass\u001b[0m\u001b[0;34m\u001b[0m\u001b[0;34m\u001b[0m\u001b[0m\n\u001b[1;32m    178\u001b[0m         \u001b[0;32melse\u001b[0m\u001b[0;34m:\u001b[0m\u001b[0;34m\u001b[0m\u001b[0;34m\u001b[0m\u001b[0m\n\u001b[0;32m--> 179\u001b[0;31m             \u001b[0mself\u001b[0m\u001b[0;34m.\u001b[0m\u001b[0mread_from_file\u001b[0m\u001b[0;34m(\u001b[0m\u001b[0minformation_file\u001b[0m\u001b[0;34m)\u001b[0m\u001b[0;34m\u001b[0m\u001b[0;34m\u001b[0m\u001b[0m\n\u001b[0m\u001b[1;32m    180\u001b[0m \u001b[0;34m\u001b[0m\u001b[0m\n\u001b[1;32m    181\u001b[0m     \u001b[0;32mdef\u001b[0m \u001b[0mwrite_to_file\u001b[0m\u001b[0;34m(\u001b[0m\u001b[0mself\u001b[0m\u001b[0;34m,\u001b[0m \u001b[0mdirectory\u001b[0m \u001b[0;34m=\u001b[0m \u001b[0;34m''\u001b[0m\u001b[0;34m)\u001b[0m\u001b[0;34m:\u001b[0m\u001b[0;34m\u001b[0m\u001b[0;34m\u001b[0m\u001b[0m\n",
      "\u001b[0;32m~/Documents/Software/ChromProcess/ChromProcess/Classes/Metadata.py\u001b[0m in \u001b[0;36mread_from_file\u001b[0;34m(self, information_file)\u001b[0m\n\u001b[1;32m    205\u001b[0m \u001b[0;34m\u001b[0m\u001b[0m\n\u001b[1;32m    206\u001b[0m     \u001b[0;32mdef\u001b[0m \u001b[0mread_from_file\u001b[0m\u001b[0;34m(\u001b[0m\u001b[0mself\u001b[0m\u001b[0;34m,\u001b[0m\u001b[0minformation_file\u001b[0m\u001b[0;34m)\u001b[0m\u001b[0;34m:\u001b[0m\u001b[0;34m\u001b[0m\u001b[0;34m\u001b[0m\u001b[0m\n\u001b[0;32m--> 207\u001b[0;31m         \u001b[0;32mwith\u001b[0m \u001b[0mopen\u001b[0m\u001b[0;34m(\u001b[0m\u001b[0minformation_file\u001b[0m\u001b[0;34m,\u001b[0m \u001b[0;34m'r'\u001b[0m\u001b[0;34m,\u001b[0m \u001b[0mencoding\u001b[0m \u001b[0;34m=\u001b[0m \u001b[0;34m'latin-1'\u001b[0m\u001b[0;34m)\u001b[0m \u001b[0;32mas\u001b[0m \u001b[0mf\u001b[0m\u001b[0;34m:\u001b[0m\u001b[0;34m\u001b[0m\u001b[0;34m\u001b[0m\u001b[0m\n\u001b[0m\u001b[1;32m    208\u001b[0m             \u001b[0;32mfor\u001b[0m \u001b[0mline\u001b[0m \u001b[0;32min\u001b[0m \u001b[0mf\u001b[0m\u001b[0;34m:\u001b[0m\u001b[0;34m\u001b[0m\u001b[0;34m\u001b[0m\u001b[0m\n\u001b[1;32m    209\u001b[0m                 \u001b[0;32mif\u001b[0m \u001b[0;34m\"Dataset\"\u001b[0m \u001b[0;32min\u001b[0m \u001b[0mline\u001b[0m\u001b[0;34m:\u001b[0m\u001b[0;34m\u001b[0m\u001b[0;34m\u001b[0m\u001b[0m\n",
      "\u001b[0;31mFileNotFoundError\u001b[0m: [Errno 2] No such file or directory: '../Templates/example_conditions.csv'"
     ]
    }
   ],
   "source": [
    "from ChromProcess import Classes\n",
    "\n",
    "conditions_file = '../Templates/example_conditions.csv'\n",
    "analysis_file = '../Templates/example_analysis_details.csv'\n",
    "chromatogram_directory = '../Templates/ExampleChromatograms'\n",
    "conditions = Classes.Experiment_Conditions(information_file = conditions_file)\n",
    "analysis = Classes.Analysis_Information(information_file = analysis_file)\n",
    "chromatogram_files = os.listdir(chromatogram_directory)\n",
    "chromatogram_files.sort()\n",
    "\n",
    "chroms = []\n",
    "for f in chromatogram_files:\n",
    "    chroms.append(Classes.Chromatogram(f'{chromatogram_directory}/{f}'))"
   ]
  },
  {
   "cell_type": "markdown",
   "id": "0beb517e",
   "metadata": {},
   "source": [
    "Next, a peak for the internal standard is picked using information in `analysis` (the function modifies the chromatogram object passed to it by inserting the internal standard information, currently, only one internal standard is supported):"
   ]
  },
  {
   "cell_type": "code",
   "execution_count": 9,
   "id": "ad06f365",
   "metadata": {
    "collapsed": true,
    "jupyter": {
     "outputs_hidden": true
    }
   },
   "outputs": [
    {
     "ename": "NameError",
     "evalue": "name 'c' is not defined",
     "output_type": "error",
     "traceback": [
      "\u001b[0;31m---------------------------------------------------------------------------\u001b[0m",
      "\u001b[0;31mNameError\u001b[0m                                 Traceback (most recent call last)",
      "\u001b[0;32m<ipython-input-9-e44ddd53f91b>\u001b[0m in \u001b[0;36m<module>\u001b[0;34m\u001b[0m\n\u001b[1;32m      1\u001b[0m \u001b[0;32mfrom\u001b[0m \u001b[0mChromProcess\u001b[0m \u001b[0;32mimport\u001b[0m \u001b[0mchromatogram_operations\u001b[0m \u001b[0;32mas\u001b[0m \u001b[0mchrom_ops\u001b[0m\u001b[0;34m\u001b[0m\u001b[0;34m\u001b[0m\u001b[0m\n\u001b[0;32m----> 2\u001b[0;31m \u001b[0mchrom_ops\u001b[0m\u001b[0;34m.\u001b[0m\u001b[0minternalRefIntegral\u001b[0m\u001b[0;34m(\u001b[0m\u001b[0mc\u001b[0m\u001b[0;34m,\u001b[0m \u001b[0manalysis\u001b[0m\u001b[0;34m.\u001b[0m\u001b[0minternal_ref_region\u001b[0m\u001b[0;34m)\u001b[0m\u001b[0;34m\u001b[0m\u001b[0;34m\u001b[0m\u001b[0m\n\u001b[0m",
      "\u001b[0;31mNameError\u001b[0m: name 'c' is not defined"
     ]
    }
   ],
   "source": [
    "from ChromProcess import chromatogram_operations as chrom_ops\n",
    "\n",
    "for c in chroms:\n",
    "    chrom_ops.internalRefIntegral(c, analysis.internal_ref_region)"
   ]
  },
  {
   "cell_type": "markdown",
   "id": "5aabc25f",
   "metadata": {},
   "source": [
    "Information from `analysis` is again used to pick peaks in defined regions of each chromatogram. The functions add peak information into chromatograms."
   ]
  },
  {
   "cell_type": "code",
   "execution_count": null,
   "id": "6eb05faf",
   "metadata": {},
   "outputs": [],
   "source": [
    "for c in chroms:\n",
    "    for r in analysis.regions:\n",
    "            chrom_ops.regionPeakPick(c, r, threshold = analysis.peak_pick_threshold)\n",
    "            chrom_ops.integratePeaks(c)"
   ]
  },
  {
   "cell_type": "markdown",
   "id": "8939b37c",
   "metadata": {},
   "source": [
    "Peaks tables can then be written directly from each `Chromatogram` whilst inserting information from conditions files if required. Note here that the ordering of chromatograms must be the same as the order or series values in the conditions file."
   ]
  },
  {
   "cell_type": "code",
   "execution_count": null,
   "id": "15a5e251",
   "metadata": {},
   "outputs": [],
   "source": [
    "# Output peak table\n",
    "peak_table_directory = '../Templates/ExamplePeakTables'\n",
    "\n",
    "os.makedirs(peak_table_directory, exist_ok = True)\n",
    "for c,v in zip(chroms, conditions.series_values):\n",
    "    c.write_peak_table(filename = f'{peak_table_directory}/{c.filename}',\n",
    "                        value = v,\n",
    "                        series_unit = conditions.series_unit)"
   ]
  }
 ],
 "metadata": {
  "kernelspec": {
   "display_name": "chromprocess-env",
   "language": "python",
   "name": "chromprocess-env"
  },
  "language_info": {
   "codemirror_mode": {
    "name": "ipython",
    "version": 3
   },
   "file_extension": ".py",
   "mimetype": "text/x-python",
   "name": "python",
   "nbconvert_exporter": "python",
   "pygments_lexer": "ipython3",
   "version": "3.9.5"
  }
 },
 "nbformat": 4,
 "nbformat_minor": 5
}
