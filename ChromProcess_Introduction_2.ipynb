{
 "cells": [
  {
   "cell_type": "markdown",
   "id": "7715f728",
   "metadata": {},
   "source": [
    "# ChromProcess Introduction Part 2\n",
    "\n",
    "In ChromProcess Introduction Part 1, peak collections were created from chromatogram files. In Part 2, these peak tables are used to compile series data (e.g. changes in compound concentrations or peak integrals over time).\n",
    "\n",
    "Note that the results of each operation should be inspected or validated in some way before they are used to evaluate the 'final' data. The software may not be picking up important features of the data. Tuning the analysis parameters shown in this notebook may remedy issues, or further code must be included to achieve satisfactory results. It is up to the reader to choose a sufficient methods for validation and inspection of the results."
   ]
  },
  {
   "cell_type": "code",
   "execution_count": 1,
   "id": "b879a684",
   "metadata": {},
   "outputs": [],
   "source": [
    "import os\n",
    "from ChromProcess import Classes"
   ]
  },
  {
   "cell_type": "markdown",
   "id": "99356bdb",
   "metadata": {},
   "source": [
    "Peak collections can be loaded into objects."
   ]
  },
  {
   "cell_type": "code",
   "execution_count": 2,
   "id": "524b1924",
   "metadata": {},
   "outputs": [],
   "source": [
    "peak_collection_directory = 'Examples/Example/ExperimentalData/ExamplePeakCollections'\n",
    "\n",
    "peak_tables = []\n",
    "for file in os.listdir(peak_collection_directory):\n",
    "    peak_tables.append(Classes.PeakCollection(file = f'{peak_collection_directory}/{file}'))"
   ]
  },
  {
   "cell_type": "markdown",
   "id": "b49a10a2",
   "metadata": {},
   "source": [
    "The experiment conditions go hand-in-hand with the data, so they are loaded into an object."
   ]
  },
  {
   "cell_type": "code",
   "execution_count": 3,
   "id": "2d12861e",
   "metadata": {},
   "outputs": [],
   "source": [
    "conditions_file = 'Examples/Example/ExperimentalData/example_conditions.csv'\n",
    "conditions = Classes.Experiment_Conditions(information_file = conditions_file)"
   ]
  },
  {
   "cell_type": "markdown",
   "id": "94e73f5f",
   "metadata": {},
   "source": [
    "The peak tables and experiment conditions are then used to create a series of peak collections in a single object."
   ]
  },
  {
   "cell_type": "code",
   "execution_count": 4,
   "id": "c78440e6",
   "metadata": {},
   "outputs": [],
   "source": [
    "# Create series of peak collections\n",
    "series = Classes.PeakCollectionSeries(\n",
    "                                    peak_tables, \n",
    "                                    name = 'Example',\n",
    "                                    conditions = conditions.conditions\n",
    "                                    )"
   ]
  },
  {
   "cell_type": "markdown",
   "id": "ed729c0c",
   "metadata": {},
   "source": [
    "Now, there are a bunch of operations which can be performed on this series of peak collections. First, consider that similar peaks between chromatograms do not have *exactly* the same retention time. Some of this variability can be reduced by aligning each chromatogram according the the position of its internal standard. The internal standard retention time can be set to zero, and all other retention times are adjusted accordingly."
   ]
  },
  {
   "cell_type": "code",
   "execution_count": 5,
   "id": "4856430c",
   "metadata": {},
   "outputs": [],
   "source": [
    "IS_pos = 0.0\n",
    "series.align_peaks_to_IS(IS_pos)"
   ]
  },
  {
   "cell_type": "markdown",
   "id": "b86792c7",
   "metadata": {},
   "source": [
    "Next, the integrals of all peaks can be normalised to the internal standard's integral."
   ]
  },
  {
   "cell_type": "code",
   "execution_count": 6,
   "id": "3e20b155",
   "metadata": {},
   "outputs": [],
   "source": [
    "series.reference_integrals_to_IS()"
   ]
  },
  {
   "cell_type": "markdown",
   "id": "15a4e6e0",
   "metadata": {},
   "source": [
    "If there are low-intensity peaks that are considered to be negligible (your decision), those below a certain integral value threshold can be removed."
   ]
  },
  {
   "cell_type": "code",
   "execution_count": 7,
   "id": "f7f04767",
   "metadata": {},
   "outputs": [],
   "source": [
    "peak_removal_limit = 0.05 # 5% of internal standard integral if integrals are normalised to IS\n",
    "series.remove_peaks_below_threshold(peak_removal_limit)"
   ]
  },
  {
   "cell_type": "markdown",
   "id": "094845b3",
   "metadata": {},
   "source": [
    "The above operations clean up the data for finding a series for each peak through the set of peak collections. The following method uses a simple agglomerative clustering algorithm to create clusters of peak retention times. Each cluster will be used to identify which peaks will go into a series."
   ]
  },
  {
   "cell_type": "code",
   "execution_count": 13,
   "id": "0110f499",
   "metadata": {},
   "outputs": [],
   "source": [
    "peak_agglomeration_boundary = 0.025 # distance cutoff \n",
    "series.get_peak_clusters(bound = peak_agglomeration_boundary)"
   ]
  },
  {
   "cell_type": "markdown",
   "id": "9704b4b3",
   "metadata": {},
   "source": [
    "These clusters can then be used to output the series data for the peak integrals. First information about the chromatographic method is stored in a dedicated 'calibrations' file. This file is loaded into an object (`Instrument_Calibration`), which is passed on as a source of information for the output. Next, a method is called to assemble the peak clusters into a numpy array. Then, a DataReport object is created from the PeakCollectionSeries object, which is then written to a file."
   ]
  },
  {
   "cell_type": "code",
   "execution_count": 15,
   "id": "996d97f7",
   "metadata": {},
   "outputs": [],
   "source": [
    "data_report_directory = 'Examples/Example/ExperimentalData/DataReports'\n",
    "calibrations_file = 'Examples/example_calibrations.csv'\n",
    "calib = Classes.Instrument_Calibration(file = calibrations_file)\n",
    "\n",
    "series.make_integral_series() # create arrays for output\n",
    "integral_data_report = series.create_integral_DataReport(calib) # create DataReport\n",
    "integral_data_report.write_to_file(path = data_report_directory) # Save to file"
   ]
  },
  {
   "cell_type": "code",
   "execution_count": null,
   "id": "1bb8b381",
   "metadata": {},
   "outputs": [],
   "source": []
  }
 ],
 "metadata": {
  "kernelspec": {
   "display_name": "chromprocess-env",
   "language": "python",
   "name": "chromprocess-env"
  },
  "language_info": {
   "codemirror_mode": {
    "name": "ipython",
    "version": 3
   },
   "file_extension": ".py",
   "mimetype": "text/x-python",
   "name": "python",
   "nbconvert_exporter": "python",
   "pygments_lexer": "ipython3",
   "version": "3.9.5"
  }
 },
 "nbformat": 4,
 "nbformat_minor": 5
}
