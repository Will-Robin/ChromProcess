{
 "cells": [
  {
   "cell_type": "markdown",
   "id": "dafe0245",
   "metadata": {},
   "source": [
    "# ChromProcess Introduction Part 2\n",
    "\n",
    "In ChromProcess Introduction Part 1, peak collections were created from chromatogram files. In Part 2, these peak tables are used to compile series data (e.g. changes in compound concentrations or peak integrals over time).\n",
    "\n",
    "Note that the results of each operation should be inspected or validated in some way before they are used to evaluate the 'final' data. The software may not be picking up important features of the data. Tuning the analysis parameters shown in this notebook may remedy issues, or further code must be included to achieve satisfactory results. It is up to the reader to choose a sufficient methods for validation and inspection of the results."
   ]
  },
  {
   "cell_type": "code",
   "execution_count": 1,
   "id": "5d136404",
   "metadata": {},
   "outputs": [],
   "source": [
    "import os\n",
    "from ChromProcess import Classes"
   ]
  },
  {
   "cell_type": "markdown",
   "id": "6af9a67a",
   "metadata": {},
   "source": [
    "Peak collections can be loaded into objects."
   ]
  },
  {
   "cell_type": "code",
   "execution_count": 2,
   "id": "5e819cc8",
   "metadata": {},
   "outputs": [],
   "source": [
    "from ChromProcess.Loading import peak_collection_from_csv\n",
    "\n",
    "peak_collection_directory = 'Sample_analysis/Example/ExperimentalData/ExamplePeakCollections'\n",
    "\n",
    "peak_tables = []\n",
    "for file in os.listdir(peak_collection_directory):\n",
    "    if file.endswith('.csv'):\n",
    "        peak_tables.append(peak_collection_from_csv(f'{peak_collection_directory}/{file}'))"
   ]
  },
  {
   "cell_type": "markdown",
   "id": "62eb4f1e",
   "metadata": {},
   "source": [
    "The experiment conditions go hand-in-hand with the data, so they are loaded into an object. As well as an object containing calibration information for the instrument."
   ]
  },
  {
   "cell_type": "code",
   "execution_count": 3,
   "id": "7e268e9b",
   "metadata": {},
   "outputs": [],
   "source": [
    "from ChromProcess.Loading import analysis_from_csv\n",
    "from ChromProcess.Loading import conditions_from_csv\n",
    "\n",
    "conditions_file = 'Sample_analysis/Example/ExperimentalData/example_conditions.csv'\n",
    "analysis_file = 'Sample_analysis/Example/Analysis/example_analysis_details.csv'\n",
    "conditions = conditions_from_csv(conditions_file)\n",
    "analysis = analysis_from_csv(analysis_file)"
   ]
  },
  {
   "cell_type": "markdown",
   "id": "a02d43f2",
   "metadata": {},
   "source": [
    "The peak tables and experiment conditions are then used to create a series of peak collections in a single object."
   ]
  },
  {
   "cell_type": "code",
   "execution_count": 4,
   "id": "533e0917",
   "metadata": {},
   "outputs": [],
   "source": [
    "# Create series of peak collections\n",
    "series = Classes.PeakCollectionSeries(\n",
    "                                    peak_tables, \n",
    "                                    name = 'Example',\n",
    "                                    conditions = conditions.conditions\n",
    "                                    )"
   ]
  },
  {
   "cell_type": "markdown",
   "id": "0aa93909",
   "metadata": {},
   "source": [
    "Now, there are a bunch of operations which can be performed on this series of peak collections. First, consider that similar peaks between chromatograms do not have *exactly* the same retention time. Some of this variability can be reduced by aligning each chromatogram according the the position of its internal standard. The internal standard retention time can be set to zero, and all other retention times are adjusted accordingly."
   ]
  },
  {
   "cell_type": "code",
   "execution_count": 5,
   "id": "f8f2fb5f",
   "metadata": {},
   "outputs": [],
   "source": [
    "from ChromProcess.Loading import instrument_cal_from_csv\n",
    "calibration = instrument_cal_from_csv('Sample_analysis/example_calibrations.csv')\n",
    "IS_pos = calibration.internal_standard_position\n",
    "series.align_peaks_to_IS(IS_pos)"
   ]
  },
  {
   "cell_type": "markdown",
   "id": "bc14ee3e",
   "metadata": {},
   "source": [
    "Next, the integrals of all peaks can be normalised to the internal standard's integral."
   ]
  },
  {
   "cell_type": "code",
   "execution_count": 6,
   "id": "4c886b4e",
   "metadata": {},
   "outputs": [],
   "source": [
    "series.reference_integrals_to_IS()"
   ]
  },
  {
   "cell_type": "markdown",
   "id": "ba2f003e",
   "metadata": {},
   "source": [
    "If there are low-intensity peaks that are considered to be negligible (your decision), those below a certain integral value threshold can be removed."
   ]
  },
  {
   "cell_type": "code",
   "execution_count": 7,
   "id": "203b9886",
   "metadata": {},
   "outputs": [],
   "source": [
    "peak_removal_limit = 0.05 # 5% of internal standard integral if integrals are normalised to IS\n",
    "series.remove_peaks_below_threshold(peak_removal_limit)"
   ]
  },
  {
   "cell_type": "markdown",
   "id": "61f6b1ca",
   "metadata": {},
   "source": [
    "The above operations clean up the data for finding a series for each peak through the set of peak collections. The following method uses a simple agglomerative clustering algorithm to create clusters of peak retention times. Each cluster will be used to identify which peaks will go into a series."
   ]
  },
  {
   "cell_type": "code",
   "execution_count": 8,
   "id": "c49afea2",
   "metadata": {},
   "outputs": [],
   "source": [
    "peak_agglomeration_boundary = 0.025 # distance cutoff \n",
    "series.get_peak_clusters(bound = peak_agglomeration_boundary)"
   ]
  },
  {
   "cell_type": "markdown",
   "id": "28c86306",
   "metadata": {},
   "source": [
    "These clusters can then be used to output the series data for the peak integrals. First, a method is called to assemble the peak clusters into a numpy array. Then, a `DataReport` object is created from the `PeakCollectionSeries` object. The `DataReport` is then written to a file."
   ]
  },
  {
   "cell_type": "code",
   "execution_count": 9,
   "id": "f72b6d0d",
   "metadata": {},
   "outputs": [],
   "source": [
    "data_report_directory = 'Sample_analysis/Example/ExperimentalData/DataReports'\n",
    "\n",
    "series.write_data_reports(f'{data_report_directory}/{series.name}', analysis) # create arrays for output"
   ]
  },
  {
   "cell_type": "markdown",
   "id": "4860e2d8",
   "metadata": {},
   "source": [
    "Peaks and clusters can also be assigned according to the retention time boundaries stored in the calibrations file. "
   ]
  },
  {
   "cell_type": "code",
   "execution_count": 10,
   "id": "6aa401d5",
   "metadata": {},
   "outputs": [],
   "source": [
    " # assign peaks\n",
    "series.assign_peaks(calibration.boundaries)\n",
    "# assign clusters\n",
    "series.assign_clusters(calibration.boundaries)"
   ]
  },
  {
   "cell_type": "markdown",
   "id": "0d47d5c0",
   "metadata": {},
   "source": [
    "Following assignment of the peaks, a calibration function can then be applied to obtain concentrations using the calibration factors contained in the `InstrumentCalibration` object. Information from `AnalysisDetails`, such as dilution factors, are also included."
   ]
  },
  {
   "cell_type": "code",
   "execution_count": 11,
   "id": "70c99e22",
   "metadata": {},
   "outputs": [
    {
     "name": "stderr",
     "output_type": "stream",
     "text": [
      "/Users/williamrobinson/Documents/Software/ChromProcess/ChromProcess/Utils/utils/functions.py:74: RuntimeWarning: invalid value encountered in double_scalars\n",
      "  return factor*(-B + np.sqrt((B**2) - (4*A*(C-integ))))/(2*A)\n"
     ]
    }
   ],
   "source": [
    "# Apply calibrations to assigned peaks\n",
    "# (May give the error:\n",
    "# `RuntimeWarning: invalid value encountered in double_scalars`\n",
    "# due to multiplication by zero)\n",
    "series.apply_calibrations(analysis, calibration)"
   ]
  },
  {
   "cell_type": "code",
   "execution_count": 12,
   "id": "681f4f0a",
   "metadata": {},
   "outputs": [],
   "source": [
    "# Correct for sample dilution\n",
    "series.apply_peak_dilution_factors(analysis.internal_standard_concentration, analysis.internal_standard_concentration_error)"
   ]
  },
  {
   "cell_type": "markdown",
   "id": "d1ac2675",
   "metadata": {},
   "source": [
    "Some plots of the data now extracted into `series`:"
   ]
  },
  {
   "cell_type": "code",
   "execution_count": 13,
   "id": "9d8f5248",
   "metadata": {},
   "outputs": [
    {
     "data": {
      "text/plain": [
       "Text(0, 0.5, 'concentration/ M')"
      ]
     },
     "execution_count": 13,
     "metadata": {},
     "output_type": "execute_result"
    },
    {
     "data": {
      "image/png": "[encoded data removed]",
      "text/plain": [
       "<Figure size 720x360 with 2 Axes>"
      ]
     },
     "metadata": {
      "needs_background": "light"
     },
     "output_type": "display_data"
    }
   ],
   "source": [
    "import matplotlib.pyplot as plt\n",
    "\n",
    "conc_dict, err_dict, integral_dict = series.series_traces_as_dict()\n",
    "\n",
    "fig, ax = plt.subplots(ncols = 2, figsize = (10,5))\n",
    "\n",
    "for i in integral_dict:\n",
    "    ax[0].plot(series.series_values, integral_dict[i], '-o')\n",
    "    \n",
    "for c in conc_dict:\n",
    "    ax[1].errorbar(series.series_values, conc_dict[c], \n",
    "                   yerr = err_dict[c], marker = 'o', \n",
    "                   markersize = 2)\n",
    "    \n",
    "for a in ax:\n",
    "    a.set_xlabel(series.series_unit)\n",
    "    \n",
    "ax[0].set_ylabel('integral/IS integral')    \n",
    "ax[1].set_ylabel('concentration/ M')"
   ]
  },
  {
   "cell_type": "markdown",
   "id": "3ab65830",
   "metadata": {},
   "source": [
    "The results of calculating concentrations can then be output using a similar process as for the integral series. If peaks have ben asssigned, the assignments will be incorporated into the integral series file, too."
   ]
  },
  {
   "cell_type": "code",
   "execution_count": 14,
   "id": "ffe62518",
   "metadata": {},
   "outputs": [],
   "source": [
    "series.write_data_reports(f'{data_report_directory}/{series.name}', analysis) # create arrays for output"
   ]
  },
  {
   "cell_type": "markdown",
   "id": "f928c1e2",
   "metadata": {},
   "source": [
    "...and that's the end of Part 2."
   ]
  }
 ],
 "metadata": {
  "kernelspec": {
   "display_name": "chromprocess-env",
   "language": "python",
   "name": "chromprocess-env"
  },
  "language_info": {
   "codemirror_mode": {
    "name": "ipython",
    "version": 3
   },
   "file_extension": ".py",
   "mimetype": "text/x-python",
   "name": "python",
   "nbconvert_exporter": "python",
   "pygments_lexer": "ipython3",
   "version": "3.9.5"
  }
 },
 "nbformat": 4,
 "nbformat_minor": 5
}
