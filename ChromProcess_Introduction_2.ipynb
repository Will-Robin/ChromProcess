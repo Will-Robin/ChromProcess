{
 "cells": [
  {
   "cell_type": "markdown",
   "id": "c799fdd9",
   "metadata": {},
   "source": [
    "# ChromProcess Introduction Part 2\n",
    "\n",
    "In ChromProcess Introduction Part 1, peak collections were created from chromatogram files. In Part 2, these peak tables are used to compile series data (e.g. changes in compound concentrations or peak integrals over time).\n",
    "\n",
    "Note that the results of each operation should be inspected or validated in some way before they are used to evaluate the 'final' data. The software may not be picking up important features of the data. Tuning the analysis parameters shown in this notebook may remedy issues, or further code must be included to achieve satisfactory results. It is up to the reader to choose a sufficient methods for validation and inspection of the results."
   ]
  },
  {
   "cell_type": "code",
   "execution_count": 1,
   "id": "1a0ca971",
   "metadata": {},
   "outputs": [],
   "source": [
    "import os\n",
    "from ChromProcess import Classes"
   ]
  },
  {
   "cell_type": "markdown",
   "id": "cd1a7f9c",
   "metadata": {},
   "source": [
    "Peak collections can be loaded into objects."
   ]
  },
  {
   "cell_type": "code",
   "execution_count": 2,
   "id": "76bf943d",
   "metadata": {},
   "outputs": [],
   "source": [
    "from ChromProcess.Loading import peak_collection_from_csv\n",
    "\n",
    "peak_collection_directory = 'Examples/Example/ExperimentalData/ExamplePeakCollections'\n",
    "\n",
    "peak_tables = []\n",
    "for file in os.listdir(peak_collection_directory):\n",
    "    if file.endswith('.csv'):\n",
    "        peak_tables.append(peak_collection_from_csv(f'{peak_collection_directory}/{file}'))"
   ]
  },
  {
   "cell_type": "markdown",
   "id": "37cfab11",
   "metadata": {},
   "source": [
    "The experiment conditions go hand-in-hand with the data, so they are loaded into an object. As well as an object containing calibration information for the instrument."
   ]
  },
  {
   "cell_type": "code",
   "execution_count": 3,
   "id": "180a1e19",
   "metadata": {},
   "outputs": [],
   "source": [
    "from ChromProcess.Loading import analysis_from_csv\n",
    "from ChromProcess.Loading import conditions_from_csv\n",
    "\n",
    "conditions_file = 'Examples/Example/ExperimentalData/example_conditions.csv'\n",
    "analysis_file = 'Examples/Example/Analysis/example_analysis_details.csv'\n",
    "conditions = conditions_from_csv(conditions_file)\n",
    "analysis = analysis_from_csv(analysis_file)"
   ]
  },
  {
   "cell_type": "markdown",
   "id": "e698409a",
   "metadata": {},
   "source": [
    "The peak tables and experiment conditions are then used to create a series of peak collections in a single object."
   ]
  },
  {
   "cell_type": "code",
   "execution_count": 4,
   "id": "1b81aad0",
   "metadata": {},
   "outputs": [
    {
     "name": "stdout",
     "output_type": "stream",
     "text": [
      "7.818\n",
      "10.397\n",
      "13.254\n",
      "7.659\n",
      "10.397\n",
      "13.26\n",
      "7.815\n",
      "10.394\n",
      "13.256\n"
     ]
    }
   ],
   "source": [
    "# Create series of peak collections\n",
    "series = Classes.PeakCollectionSeries(\n",
    "                                    peak_tables, \n",
    "                                    name = 'Example',\n",
    "                                    conditions = conditions.conditions\n",
    "                                    )\n",
    "for p in series.peak_collections:\n",
    "    for pk in p.peaks:\n",
    "        print(pk.retention_time)"
   ]
  },
  {
   "cell_type": "markdown",
   "id": "dce272b0",
   "metadata": {},
   "source": [
    "Now, there are a bunch of operations which can be performed on this series of peak collections. First, consider that similar peaks between chromatograms do not have *exactly* the same retention time. Some of this variability can be reduced by aligning each chromatogram according the the position of its internal standard. The internal standard retention time can be set to zero, and all other retention times are adjusted accordingly."
   ]
  },
  {
   "cell_type": "code",
   "execution_count": 5,
   "id": "9fbe1fc9",
   "metadata": {},
   "outputs": [
    {
     "name": "stdout",
     "output_type": "stream",
     "text": [
      "8.097\n",
      "10.676\n",
      "13.533\n",
      "7.939\n",
      "10.677\n",
      "13.54\n",
      "8.095\n",
      "10.674\n",
      "13.536000000000001\n"
     ]
    }
   ],
   "source": [
    "from ChromProcess.Loading import instrument_cal_from_csv\n",
    "calibration = instrument_cal_from_csv('Examples/example_calibrations.csv')\n",
    "IS_pos = calibration.internal_standard_position\n",
    "series.align_peaks_to_IS(IS_pos)\n",
    "\n",
    "for p in series.peak_collections:\n",
    "    for pk in p.peaks:\n",
    "        print(pk.retention_time)"
   ]
  },
  {
   "cell_type": "markdown",
   "id": "18d8cd23",
   "metadata": {},
   "source": [
    "Next, the integrals of all peaks can be normalised to the internal standard's integral."
   ]
  },
  {
   "cell_type": "code",
   "execution_count": 6,
   "id": "396eb4e9",
   "metadata": {},
   "outputs": [],
   "source": [
    "series.reference_integrals_to_IS()"
   ]
  },
  {
   "cell_type": "markdown",
   "id": "9c3d6bdc",
   "metadata": {},
   "source": [
    "If there are low-intensity peaks that are considered to be negligible (your decision), those below a certain integral value threshold can be removed."
   ]
  },
  {
   "cell_type": "code",
   "execution_count": 7,
   "id": "2c6665f1",
   "metadata": {},
   "outputs": [],
   "source": [
    "peak_removal_limit = 0.05 # 5% of internal standard integral if integrals are normalised to IS\n",
    "series.remove_peaks_below_threshold(peak_removal_limit)"
   ]
  },
  {
   "cell_type": "markdown",
   "id": "f5320a0f",
   "metadata": {},
   "source": [
    "The above operations clean up the data for finding a series for each peak through the set of peak collections. The following method uses a simple agglomerative clustering algorithm to create clusters of peak retention times. Each cluster will be used to identify which peaks will go into a series."
   ]
  },
  {
   "cell_type": "code",
   "execution_count": 8,
   "id": "94808f70",
   "metadata": {},
   "outputs": [],
   "source": [
    "peak_agglomeration_boundary = 0.025 # distance cutoff \n",
    "series.get_peak_clusters(bound = peak_agglomeration_boundary)"
   ]
  },
  {
   "cell_type": "markdown",
   "id": "937e08ff",
   "metadata": {},
   "source": [
    "These clusters can then be used to output the series data for the peak integrals. First, a method is called to assemble the peak clusters into a numpy array. Then, a `DataReport` object is created from the `PeakCollectionSeries` object. This creation process incorporates information from the `InstrumentCalibration` object. The `DataReport` is then written to a file."
   ]
  },
  {
   "cell_type": "code",
   "execution_count": 9,
   "id": "51c7f925",
   "metadata": {},
   "outputs": [],
   "source": [
    "data_report_directory = 'Examples/Example/ExperimentalData/DataReports'\n",
    "\n",
    "series.make_integral_series() # create arrays for output\n",
    "integral_data_report = series.create_integral_DataReport(calibration) # create DataReport\n",
    "integral_data_report.write_to_file(path = data_report_directory) # Save to file"
   ]
  },
  {
   "cell_type": "markdown",
   "id": "fc146574",
   "metadata": {},
   "source": [
    "Peaks and clusters can also be assigned according to the retention time boundaries stored in the calibrations file. "
   ]
  },
  {
   "cell_type": "code",
   "execution_count": 10,
   "id": "24ac5023",
   "metadata": {},
   "outputs": [],
   "source": [
    " # assign peaks\n",
    "series.assign_peaks(calibration.boundaries)\n",
    "# assign clusters\n",
    "series.assign_clusters(calibration.boundaries)"
   ]
  },
  {
   "cell_type": "markdown",
   "id": "a7d299f4",
   "metadata": {},
   "source": [
    "Following assignment of the peaks, calibration function can then be applied to obtain concentrations using the calibration factors contained in the `InstrumentCalibration` object. Information from `AnalysisDetails`, such as dilution factors, are also included."
   ]
  },
  {
   "cell_type": "code",
   "execution_count": 11,
   "id": "ad7f2d6b",
   "metadata": {},
   "outputs": [
    {
     "name": "stderr",
     "output_type": "stream",
     "text": [
      "/Users/williamrobinson/Documents/Software/ChromProcess/ChromProcess/Utils/utils/functions.py:74: RuntimeWarning: invalid value encountered in double_scalars\n",
      "  return factor*(-B + np.sqrt((B**2) - (4*A*(C-integ))))/(2*A)\n"
     ]
    }
   ],
   "source": [
    "# Apply calibrations to assigned peaks\n",
    "# (May give the error:\n",
    "# `RuntimeWarning: invalid value encountered in double_scalars`\n",
    "# due to multiplication by zero)\n",
    "series.apply_calibrations(analysis, calibration)"
   ]
  },
  {
   "cell_type": "code",
   "execution_count": 12,
   "id": "ce6817b2",
   "metadata": {},
   "outputs": [],
   "source": [
    "# Correct for sample dilution\n",
    "series.apply_peak_dilution_factors(analysis)"
   ]
  },
  {
   "cell_type": "markdown",
   "id": "89533c7e",
   "metadata": {},
   "source": [
    "The results of calculating concentrations can then be output using a similar process as for the integral series. If peaks have ben asssigned, the assignments will be incorporated into the integral series file, too."
   ]
  },
  {
   "cell_type": "code",
   "execution_count": 13,
   "id": "f86c2cad",
   "metadata": {},
   "outputs": [],
   "source": [
    "series.make_concentration_series()\n",
    "conc_data_report = series.create_conc_DataReport(calibration)\n",
    "assigned_integral_report = series.create_integral_DataReport(calibration)\n",
    "\n",
    "conc_data_report.write_to_file(path = data_report_directory) # Save to file\n",
    "assigned_integral_report.write_to_file(filename = 'example_assigned_integral_report.csv', path = data_report_directory) # Save to file"
   ]
  },
  {
   "cell_type": "markdown",
   "id": "0fcfaf5b",
   "metadata": {},
   "source": [
    "...and that's the end of Part 2."
   ]
  }
 ],
 "metadata": {
  "kernelspec": {
   "display_name": "chromprocess-env",
   "language": "python",
   "name": "chromprocess-env"
  },
  "language_info": {
   "codemirror_mode": {
    "name": "ipython",
    "version": 3
   },
   "file_extension": ".py",
   "mimetype": "text/x-python",
   "name": "python",
   "nbconvert_exporter": "python",
   "pygments_lexer": "ipython3",
   "version": "3.9.5"
  }
 },
 "nbformat": 4,
 "nbformat_minor": 5
}
