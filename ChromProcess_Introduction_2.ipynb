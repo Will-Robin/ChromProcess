{
 "cells": [
  {
   "cell_type": "markdown",
   "id": "f049d2c8",
   "metadata": {},
   "source": [
    "# ChromProcess Introduction Part 2\n",
    "\n",
    "In ChromProcess Introduction Part 1, peak tables were created from chromatogram files. In Part 2, these peak tables are used to compile series data (e.g. changes in compound concentrations or peak integrals over time)."
   ]
  },
  {
   "cell_type": "code",
   "execution_count": 1,
   "id": "20466e2e",
   "metadata": {},
   "outputs": [],
   "source": [
    "import os\n",
    "from ChromProcess import Classes"
   ]
  },
  {
   "cell_type": "code",
   "execution_count": 2,
   "id": "a9c1b504",
   "metadata": {},
   "outputs": [],
   "source": [
    "peak_collection_directory = 'Examples/Example/ExperimentalData/ExamplePeakCollections'\n",
    "\n",
    "peak_tables = []\n",
    "for file in os.listdir(peak_collection_directory):\n",
    "    peak_tables.append(Classes.PeakCollection(file = f'{peak_collection_directory}/{file}'))"
   ]
  },
  {
   "cell_type": "code",
   "execution_count": 3,
   "id": "a5c7d51b",
   "metadata": {},
   "outputs": [],
   "source": [
    "conditions_file = 'Examples/Example/ExperimentalData/example_conditions.csv'\n",
    "conditions = Classes.Experiment_Conditions(information_file = conditions_file)"
   ]
  },
  {
   "cell_type": "code",
   "execution_count": 4,
   "id": "0a9e885a",
   "metadata": {},
   "outputs": [],
   "source": [
    "# Create series of peak collections\n",
    "series = Classes.PeakCollectionSeries(\n",
    "                                    peak_tables, \n",
    "                                    name = 'Example',\n",
    "                                    conditions = conditions.conditions\n",
    "                                    )"
   ]
  },
  {
   "cell_type": "markdown",
   "id": "2363c476",
   "metadata": {},
   "source": [
    "Now, there are a bunch of operations which can be performed on this series of peak collections"
   ]
  }
 ],
 "metadata": {
  "kernelspec": {
   "display_name": "chromprocess-env",
   "language": "python",
   "name": "chromprocess-env"
  },
  "language_info": {
   "codemirror_mode": {
    "name": "ipython",
    "version": 3
   },
   "file_extension": ".py",
   "mimetype": "text/x-python",
   "name": "python",
   "nbconvert_exporter": "python",
   "pygments_lexer": "ipython3",
   "version": "3.9.5"
  }
 },
 "nbformat": 4,
 "nbformat_minor": 5
}
