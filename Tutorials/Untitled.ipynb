{
 "cells": [
  {
   "cell_type": "markdown",
   "id": "d4195297",
   "metadata": {},
   "source": [
    "# ChromProcess Introduction Part 2\n",
    "\n",
    "This notebook gives an example workflow for analysing a peaks from a series of chromatograms."
   ]
  },
  {
   "cell_type": "code",
   "execution_count": 1,
   "id": "5c430598",
   "metadata": {},
   "outputs": [],
   "source": [
    "import pandas as pd"
   ]
  },
  {
   "cell_type": "code",
   "execution_count": 4,
   "id": "27c35d46",
   "metadata": {},
   "outputs": [
    {
     "data": {
      "text/html": [
       "<div>\n",
       "<style scoped>\n",
       "    .dataframe tbody tr th:only-of-type {\n",
       "        vertical-align: middle;\n",
       "    }\n",
       "\n",
       "    .dataframe tbody tr th {\n",
       "        vertical-align: top;\n",
       "    }\n",
       "\n",
       "    .dataframe thead th {\n",
       "        text-align: right;\n",
       "    }\n",
       "</style>\n",
       "<table border=\"1\" class=\"dataframe\">\n",
       "  <thead>\n",
       "    <tr style=\"text-align: right;\">\n",
       "      <th></th>\n",
       "      <th>Unnamed: 0</th>\n",
       "      <th>retention_time</th>\n",
       "      <th>integral</th>\n",
       "      <th>start</th>\n",
       "      <th>end</th>\n",
       "      <th>time</th>\n",
       "    </tr>\n",
       "  </thead>\n",
       "  <tbody>\n",
       "    <tr>\n",
       "      <th>0</th>\n",
       "      <td>0</td>\n",
       "      <td>7.813500</td>\n",
       "      <td>7375.790668</td>\n",
       "      <td>7.773625</td>\n",
       "      <td>7.888292</td>\n",
       "      <td>10.0</td>\n",
       "    </tr>\n",
       "    <tr>\n",
       "      <th>1</th>\n",
       "      <td>1</td>\n",
       "      <td>7.999625</td>\n",
       "      <td>1775.619826</td>\n",
       "      <td>7.974708</td>\n",
       "      <td>8.047833</td>\n",
       "      <td>10.0</td>\n",
       "    </tr>\n",
       "    <tr>\n",
       "      <th>2</th>\n",
       "      <td>2</td>\n",
       "      <td>8.096000</td>\n",
       "      <td>2056.209856</td>\n",
       "      <td>8.062792</td>\n",
       "      <td>8.260500</td>\n",
       "      <td>10.0</td>\n",
       "    </tr>\n",
       "    <tr>\n",
       "      <th>3</th>\n",
       "      <td>3</td>\n",
       "      <td>10.395833</td>\n",
       "      <td>2438.641184</td>\n",
       "      <td>10.349292</td>\n",
       "      <td>10.447333</td>\n",
       "      <td>10.0</td>\n",
       "    </tr>\n",
       "    <tr>\n",
       "      <th>4</th>\n",
       "      <td>4</td>\n",
       "      <td>10.681625</td>\n",
       "      <td>8939.897195</td>\n",
       "      <td>10.630125</td>\n",
       "      <td>10.744792</td>\n",
       "      <td>10.0</td>\n",
       "    </tr>\n",
       "  </tbody>\n",
       "</table>\n",
       "</div>"
      ],
      "text/plain": [
       "   Unnamed: 0  retention_time     integral      start        end  time\n",
       "0           0        7.813500  7375.790668   7.773625   7.888292  10.0\n",
       "1           1        7.999625  1775.619826   7.974708   8.047833  10.0\n",
       "2           2        8.096000  2056.209856   8.062792   8.260500  10.0\n",
       "3           3       10.395833  2438.641184  10.349292  10.447333  10.0\n",
       "4           4       10.681625  8939.897195  10.630125  10.744792  10.0"
      ]
     },
     "execution_count": 4,
     "metadata": {},
     "output_type": "execute_result"
    }
   ],
   "source": [
    "peak_series = pd.read_csv(\"..\\Sample_analysis\\Example\\ExperimentalData\\ExamplePeakCollections\\series_peak_table.csv\")\n",
    "peak_series.head()"
   ]
  },
  {
   "cell_type": "code",
   "execution_count": null,
   "id": "807e3402",
   "metadata": {},
   "outputs": [],
   "source": []
  }
 ],
 "metadata": {
  "kernelspec": {
   "display_name": "chromprocess-env",
   "language": "python",
   "name": "chromprocess-env"
  },
  "language_info": {
   "codemirror_mode": {
    "name": "ipython",
    "version": 3
   },
   "file_extension": ".py",
   "mimetype": "text/x-python",
   "name": "python",
   "nbconvert_exporter": "python",
   "pygments_lexer": "ipython3",
   "version": "3.9.7"
  }
 },
 "nbformat": 4,
 "nbformat_minor": 5
}
