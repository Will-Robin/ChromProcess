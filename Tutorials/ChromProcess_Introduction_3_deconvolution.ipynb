{
 "cells": [
  {
   "cell_type": "markdown",
   "id": "40448509",
   "metadata": {},
   "source": [
    "# ChromProcess Introduction, Part 3 (deconvolution)\n",
    "\n",
    "ChromProcess has the capability of deconvoluting peaks by fitting a sum of multiple probability density functions to sections of a chromatogram.\n",
    "\n",
    "This process will work better if some peak information (position, boundaries) is provided in advance. Running a peak picking operation as described in Part 1 should be sufficient to obtain this information.\n",
    "\n",
    "Below is a workflow for 'deconvoluting' a region of a chromatogram."
   ]
  },
  {
   "cell_type": "code",
   "execution_count": 1,
   "id": "e0970f54",
   "metadata": {},
   "outputs": [],
   "source": [
    "import numpy as np\n",
    "import matplotlib.pyplot as plt\n",
    "from ChromProcess.Loading import chrom_from_csv\n",
    "from ChromProcess.Utils import deconvolution\n",
    "from ChromProcess.Processing import find_peaks_in_region"
   ]
  },
  {
   "cell_type": "markdown",
   "id": "8b1f0eb0",
   "metadata": {},
   "source": [
    "Load an example chromatogram, define a region, and pick peaks."
   ]
  },
  {
   "cell_type": "code",
   "execution_count": 2,
   "id": "27ca86fe",
   "metadata": {},
   "outputs": [],
   "source": [
    "data_file = (\n",
    "    \"example_data/Example/ExperimentalData/ExampleChromatograms/chrom_001.csv\"\n",
    ")\n",
    "\n",
    "chrom = chrom_from_csv(data_file)\n",
    "\n",
    "region = [10.25, 10.75]\n",
    "\n",
    "peaks = find_peaks_in_region(chrom, *region, threshold=0.01, wlen = 10, distance =10)\n",
    "chrom.add_peaks(peaks)"
   ]
  },
  {
   "cell_type": "markdown",
   "id": "8fe3c8d4",
   "metadata": {},
   "source": [
    "Run the deconvolution operation. Note that the number of peaks to be fitted can be specified, but it does not necessarily have to be the same as the number of peaks in the chromatogram. Preferably, the two are equal.\n",
    "\n",
    "The result is an array with a row for each picked peak, containing the peak magnitude, position, standard deviation (width) and baseline."
   ]
  },
  {
   "cell_type": "code",
   "execution_count": 3,
   "id": "a9e852a7",
   "metadata": {},
   "outputs": [
    {
     "name": "stdout",
     "output_type": "stream",
     "text": [
      "Deconvolution warning: deconvoluting more peaks than specified.\n",
      "[[5.08894580e+02 1.03200647e+01 1.15043138e-02 2.63948557e-16]\n",
      " [2.39797140e+03 1.03939730e+01 1.12877217e-02 2.63948557e-16]\n",
      " [8.91192644e+02 1.06109057e+01 1.82661439e-02 2.63948557e-16]\n",
      " [5.92372488e+03 1.06708915e+01 1.38192637e-02 2.63948557e-16]\n",
      " [2.91430554e+03 1.06874615e+01 8.47117714e-03 2.63948557e-16]]\n"
     ]
    }
   ],
   "source": [
    "deconvolution_result = deconvolution.deconvolute_region(chrom, region, num_peaks=4)\n",
    "print(deconvolution_result)"
   ]
  },
  {
   "cell_type": "markdown",
   "id": "8c76595c",
   "metadata": {},
   "source": [
    "Now plot the results."
   ]
  },
  {
   "cell_type": "code",
   "execution_count": 4,
   "id": "bde19602",
   "metadata": {},
   "outputs": [
    {
     "data": {
      "image/png": "[encoded data removed]",
      "text/plain": [
       "<Figure size 432x288 with 1 Axes>"
      ]
     },
     "metadata": {
      "needs_background": "light"
     },
     "output_type": "display_data"
    }
   ],
   "source": [
    "# Cut out the region of the chromatogram that was deconvoluted\n",
    "inds = np.where((chrom.time > region[0]) & (chrom.time < region[1]))[0]\n",
    "\n",
    "time = chrom.time[(chrom.time > region[0])&(chrom.time< region[1])]\n",
    "signal = chrom.signal[(chrom.time > region[0])&(chrom.time< region[1])]\n",
    "\n",
    "plt.plot(time, signal, label = \"chromatogram\")\n",
    "\n",
    "for p in chrom.peaks:\n",
    "    peak = chrom.peaks[p]\n",
    "    plt.plot(chrom.time[peak.indices], chrom.signal[peak.indices])\n",
    "\n",
    "plt.plot(\n",
    "    time,\n",
    "    deconvolution.pdf(\n",
    "        np.tile(\n",
    "                time, \n",
    "                (deconvolution_result.shape[0], 1)\n",
    "               ).T\n",
    "                , \n",
    "                deconvolution_result[:,0], \n",
    "                deconvolution_result[:,1],\n",
    "                deconvolution_result[:,2],\n",
    "                deconvolution_result[:,3]\n",
    "    ),\n",
    "    label = \"fitted signal\",\n",
    "    # Some parameters to emphasise where the deconvolution is\n",
    "    c=\"r\",\n",
    "    alpha = 0.5,\n",
    "    linewidth = 5\n",
    ")\n",
    "\n",
    "# Obtaining a single peak from the fit\n",
    "single_peak = deconvolution_result[:1]\n",
    "\n",
    "plt.plot(time, deconvolution.pdf(\n",
    "                                np.tile(time, (single_peak.shape[0],1)).T, \n",
    "                                single_peak[:,0],\n",
    "                                single_peak[:,1],\n",
    "                                single_peak[:,2],\n",
    "                                single_peak[:,3]\n",
    "                                ),\n",
    "         c= \"k\",\n",
    "         label = \"deconvoluted peak\"\n",
    "        )\n",
    "plt.legend()\n",
    "plt.show()"
   ]
  },
  {
   "cell_type": "markdown",
   "id": "5893e38b",
   "metadata": {},
   "source": [
    "That's one way of doing it. Other deconvolution methods are possible. Kernel Density Estimation (KDE) and Gaussian are related methods (which may effectively be the same? They seem to be identical in principle). Multidimensional methods include Biller and Bielmann (1974) and using PARAFAC ([tensorly](http://tensorly.org/stable/index.html) provides a convenient interface to PARAFAC, as used in [Mocca](https://github.com/HaasCP/mocca))."
   ]
  }
 ],
 "metadata": {
  "kernelspec": {
   "display_name": "chromprocess-env",
   "language": "python",
   "name": "chromprocess-env"
  },
  "language_info": {
   "codemirror_mode": {
    "name": "ipython",
    "version": 3
   },
   "file_extension": ".py",
   "mimetype": "text/x-python",
   "name": "python",
   "nbconvert_exporter": "python",
   "pygments_lexer": "ipython3",
   "version": "3.9.7"
  }
 },
 "nbformat": 4,
 "nbformat_minor": 5
}
