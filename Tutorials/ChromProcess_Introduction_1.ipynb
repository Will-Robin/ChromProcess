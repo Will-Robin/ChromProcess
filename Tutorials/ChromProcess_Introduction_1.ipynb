{
 "cells": [
  {
   "cell_type": "markdown",
   "id": "0dc27296",
   "metadata": {},
   "source": [
    "# ChromProcess Introduction Part 1\n",
    "\n",
    "This series of notebooks runs through one possible way of using the code contained in ChromProcess, thereby introducing its core functionality. These notebooks should work fine in the folder they are found in if ChromProcess can be imported (see installation instructions). ChromProcessIntroduction_1 shows how chromatograms and their associated data can be loaded and how peak information can be extracted from them and stored.\n",
    "\n",
    "# What is ChromProcess?\n",
    "\n",
    "ChromProcess is a collection of Python functions and objects which provide a framework for manipulating sets of chromatographic data.\n",
    "\n",
    "There are several types of information required to reproducibly assign and/or quantify chromatographic peaks. ChromProcess is one way of interfacing these various information sources. By 'interfacing', I mean placing the data in in an appropriate format and organisational structure.\n",
    "\n",
    "# Source Files\n",
    "\n",
    "## Experiment-specific files\n",
    "\n",
    "Experimental data and 'metadata' (primary data), go in the front of the analysis pipeline. Files containing information about the experiment should not be altered during analysis. Primary data files consist of several chromatographic data files (as of writing ChromProcess can load `.cdf`, `.txt` or `.csv` format) and a conditions file (`.toml` format, `.csv` format is possible but deprecated). The chromatographic data files should be named in such a way that they can be sorted programatically. For example, the sequence `chrom_001.csv`, `chrom_002.csv`, `chrom_003.csv` would be appropriate. The structure and contents of an example conditions file are shown below."
   ]
  },
  {
   "cell_type": "code",
   "execution_count": 1,
   "id": "3ae1c9ed",
   "metadata": {},
   "outputs": [
    {
     "name": "stdout",
     "output_type": "stream",
     "text": [
      "#Â A code for the data set\n",
      "Dataset = \"example_dataset_name\"\n",
      "# Values of the series covered by the chromatograms\n",
      "Series_values = [10.0, 20.0, 30.0]\n",
      "# Unit for the chromatogram series.\n",
      "Series_unit = \"time/ s\"\n",
      "# Not yet used: can be used to ensure correct mapping between files and series values.\n",
      "Chromatogram_order = [\"chrom_001.csv\", \"chrom_002.csv\", \"chrom_003.csv\"]\n",
      "\n",
      "[conditions]\n",
      "# Condition_name = [magnitude, unit]\n",
      "# Condition_name = [[magnitude, magnitude, magnitude, ...], unit]\n",
      "dihydroxyacetone = [2.0, \"M\"]\n",
      "formaldehyde = [2.0, \"M\"]\n",
      "NaOH = [0.12, \"M\"]\n",
      "CaCl2 = [0.06, \"M\"]\n",
      "water = [0.0, \"M\"]\n",
      "\n",
      "\n"
     ]
    }
   ],
   "source": [
    "import csv\n",
    "from pathlib import Path\n",
    "\n",
    "conditions_file = \"../Sample_analysis/Example/ExperimentalData/example_conditions.toml\"\n",
    "\n",
    "text = Path(conditions_file).read_text()\n",
    "\n",
    "print(text)"
   ]
  },
  {
   "cell_type": "markdown",
   "id": "479c2259",
   "metadata": {},
   "source": [
    "- Dataset: Reference code for the experiment\n",
    "- Series_values: ordered values associated with the chromatograms (e.g. timepoints)\n",
    "- Series_unit: the units for series_values; format: {name}/ {unit}\n",
    "- \\[conditions\\]: a set of conditions for the experiment.\n",
    "    - the units and values are placed in a list."
   ]
  },
  {
   "cell_type": "markdown",
   "id": "3956e4b4",
   "metadata": {},
   "source": [
    "Keeping track of the operations performed on the primary data is an important component of a reproducible pipeline. To record and input details of analysis operations, an analysis details file (`.csv`) is also included alongside the primary data. The structure and contents of an example analysis file are shown below."
   ]
  },
  {
   "cell_type": "code",
   "execution_count": 2,
   "id": "a40e5f04",
   "metadata": {},
   "outputs": [
    {
     "name": "stdout",
     "output_type": "stream",
     "text": [
      "# A code name for the data.\n",
      "Dataset = \"example_dataset_name\"\n",
      "\n",
      "[Method_information]\n",
      "# Information on the chromatographic method used.\n",
      "Method = \"GCMS\"\n",
      "Instrument = \"GCv Agilent/JEOL\"\n",
      "Instrument_method = \"Method 5\"\n",
      "Calibration_model = \"quadratic\"\n",
      "Calibration_file = \"2020_03_16_GCMS_Calibrations.csv\"\n",
      "Derivatisation_method = '''\n",
      "Reaction samples (35 Î¼L) were flash-frozen in liquid nitrogen and freeze-dried\n",
      "overnight to give dry to oily residues. To each sample was added a solution of\n",
      "O-ethylhydroxylamine hydrochloride in pyridine (75 Î¼L, 20 g L^âˆ’1^). A solution\n",
      "of dodecane and tetradecane (100 Î¼L, 1.6 mM each in pyridine) was then added to\n",
      "each sample. The samples were then shaken at 70 Â°C for 30 minutes. After\n",
      "cooling to room temperature, N,O-bis(trimethylsilyl)trifluoroacetamide (25 Î¼L)\n",
      "was added to each sample. The samples were again shaken at 70 Â°C for 30\n",
      "minutes. The samples were then cooled to room temperature, followed by\n",
      "centrifugation (3-5 min, 10,000 rpm). The supernatants were decanted into\n",
      "sample vials for analysis by GC-MS.\n",
      "'''\n",
      "\n",
      "[Peak_picking_options]\n",
      "# Peaks above this fraction of a the local maximum of a region will be found.\n",
      "Peak_pick_threshold = 0.1\n",
      "\n",
      "[Chromatogram_Regions]\n",
      "# These vairable names are currently arbitrary and are not read by the software.\n",
      "region_1 = [7.4, 8.4]\n",
      "region_2 = [10.2, 11.2]\n",
      "region_3 = [12.8, 14.0]\n",
      "\n",
      "[Internal_standard_region]\n",
      "# the variable name `internal_standard_1` should remain unchanged for now.\n",
      "internal_standard_1 = [6.6, 6.79]\n",
      "\n",
      "[Mass_spectra_options]\n",
      "# Options for loading and using mass spectral data.\n",
      "Extract_mass_spectra = \"FALSE\"\n",
      "Mass_spectra_filter = 500\n",
      "\n",
      "[Sample_information]\n",
      "Dilution_factor = 5.714285714\n",
      "Dilution_factor_error = 0.0447\n",
      "Internal_standard_concentration = 0.0008\n",
      "Internal_standard_concentration_error = 9.89E-06\n",
      "\n",
      "[Deconvolution_regions]\n",
      "# Experimental: extra field can artbitrarily be added to the .toml file for\n",
      "# extra parameter definitions.\n",
      "region_1 = [6.6, 6.79]\n",
      "\n"
     ]
    }
   ],
   "source": [
    "analysis_file = \"../Sample_analysis/Example/Analysis/example_analysis_details.toml\"\n",
    "\n",
    "text = Path(analysis_file).read_text()\n",
    "    \n",
    "print(text)"
   ]
  },
  {
   "cell_type": "markdown",
   "id": "b4e21b5e",
   "metadata": {},
   "source": [
    "Additionally, a local assignments file (initially an empty `.csv` file) can be added to the project. These files can be arranged in folders however you wish. Whichever organisation scheme used must be systematic. An example struture is shown below:"
   ]
  },
  {
   "cell_type": "raw",
   "id": "9acec8cf",
   "metadata": {},
   "source": [
    "EXPCODE\n",
    "├── Analysis\n",
    "│   ├── EXPCODE_analysis_details.toml\n",
    "│   └── EXPCODE_local_assignments.csv\n",
    "└── Data\n",
    "    ├── EXPCODE_conditions.toml\n",
    "    ├── EXPCODE_chrom_001.csv\n",
    "    ├── EXPCODE_chrom_002.csv\n",
    "    └── EXPCODE_chrom_003.csv"
   ]
  },
  {
   "cell_type": "markdown",
   "id": "45cca137",
   "metadata": {},
   "source": [
    "## Files applicable to several experiments\n",
    "\n",
    "Calibration information for an instrument may be applicable to one or more sets of data. This information can therefore be stored separately from the primary data. Alternatively, a copy of a calibration file can be included within the directory of each experiment. This method has the benefit of providing a more unambiguous association of the data to the calibration. On the other hand, if changes must be made to a calibration file (e.g. adding a new calibration for a compound), multiple files must be updated which may be more labour-intensive and error-prone. Either way, creating a file which assigns each experiment to a calibration file (including paths to each file) is beneficial, as is creating a workflow for updating analyses in response to changes to the source files."
   ]
  },
  {
   "cell_type": "markdown",
   "id": "2b17a7e6",
   "metadata": {},
   "source": [
    "# Overview of an Example Analysis Pipeline\n",
    "\n",
    "The first step is to create peak table files containing peak positions, boundaries and integrals for each chromatogram. Each chromatogram is loaded in as a `Chromatogram` object. The analysis and conditions files are also loaded as `Analysis_Information` and `Experiment_Conditions` objects, respectively. Information in the analysis file is used to find peaks in each chromatogram before each peak is integrated. The `Chromatogram` can then be used to create a peak table with associated condition information, if required."
   ]
  },
  {
   "cell_type": "markdown",
   "id": "c13e8ccf",
   "metadata": {},
   "source": [
    "Before beginning the analysis, the chromatograms should be inspected and information should be input into the analysis file as appropriate (regions, concentrations, etc.). First, the source files are directly converted into objects:"
   ]
  },
  {
   "cell_type": "code",
   "execution_count": 3,
   "id": "e6f76e86",
   "metadata": {},
   "outputs": [],
   "source": [
    "import os\n",
    "from ChromProcess.Loading import chrom_from_csv\n",
    "\n",
    "chromatogram_directory = '../Sample_analysis/Example/ExperimentalData/ExampleChromatograms'\n",
    "chromatogram_files = os.listdir(chromatogram_directory)\n",
    "chromatogram_files.sort()\n",
    "chroms = []\n",
    "for f in chromatogram_files:\n",
    "    chroms.append(chrom_from_csv(f\"{chromatogram_directory}/{f}\"))"
   ]
  },
  {
   "cell_type": "markdown",
   "id": "80d938e8",
   "metadata": {},
   "source": [
    "Before proceeding with the analysis, the chromatograms are inspected for quality (up to you as a scientist!) and for regions to be selected for peak picking. The plots can be generated by any plotting method that you are comfortable with. Below is an example using `matplotlib`.\n",
    "\n",
    "When picking regions for peak picking, the idea is to select regions in the chromatogram in which the peaks have similar intensities. An arbitrary number of boundaries can be input. At one extreme, a single boundary for the beginning and end of the chromatogram can be use. At the other logical extreme, boundaries for individual peaks can be input. Bear in mind that the current implementation of peak picking does not account for retention time drift between chromatograms, and the regions passed to each chromatogram are the same. Therefore, 'manual' peak picking in the manner may not be accurate."
   ]
  },
  {
   "cell_type": "code",
   "execution_count": 4,
   "id": "52eb8fcc",
   "metadata": {},
   "outputs": [
    {
     "data": {
      "image/png": "[encoded data removed]",
      "text/plain": [
       "<Figure size 1440x360 with 1 Axes>"
      ]
     },
     "metadata": {
      "needs_background": "light"
     },
     "output_type": "display_data"
    }
   ],
   "source": [
    "import matplotlib.pyplot as plt\n",
    "\n",
    "fig, ax = plt.subplots(figsize = (20,5))\n",
    "for c in chroms:\n",
    "    ax.plot(c.time, c.signal, label = c.filename)\n",
    "plt.show()"
   ]
  },
  {
   "cell_type": "code",
   "execution_count": 5,
   "id": "e308289f",
   "metadata": {},
   "outputs": [],
   "source": [
    "from ChromProcess.Loading import analysis_from_toml\n",
    "from ChromProcess.Loading import conditions_from_toml\n",
    "\n",
    "conditions_file = \"../Sample_analysis/Example/ExperimentalData/example_conditions.toml\"\n",
    "analysis_file = \"../Sample_analysis/Example/Analysis/example_analysis_details.toml\"\n",
    "conditions = conditions_from_toml(conditions_file)\n",
    "analysis = analysis_from_toml(analysis_file)"
   ]
  },
  {
   "cell_type": "markdown",
   "id": "a7b6eea2",
   "metadata": {},
   "source": [
    "Next, a peak for the internal standard is picked using information in `analysis` (the function modifies the chromatogram object passed to it by inserting the internal standard information, currently, only one internal standard is supported). This step assumes that the internal standard selected in the chromatograms is a single peak, with no peaks originating from the sample overlapping it (within the `analysis.internal_standard_region`)."
   ]
  },
  {
   "cell_type": "code",
   "execution_count": 6,
   "id": "7a2ff662",
   "metadata": {},
   "outputs": [],
   "source": [
    "from ChromProcess.Processing import find_peaks_in_region\n",
    "\n",
    "is_start = analysis.internal_standard_region[0]\n",
    "is_end = analysis.internal_standard_region[1]\n",
    "for chrom in chroms:\n",
    "    peaks = find_peaks_in_region(\n",
    "                chrom, \n",
    "                is_start,\n",
    "                is_end,\n",
    "                threshold = 0.1,\n",
    "                wlen = 2\n",
    "            )\n",
    "    chrom.set_internal_standard(peaks[0])"
   ]
  },
  {
   "cell_type": "markdown",
   "id": "fec3bd82",
   "metadata": {},
   "source": [
    "Information from `analysis` (originating in the analysis information file described above) is again used to pick peaks in defined regions of each chromatogram. The functions add peak information into chromatograms."
   ]
  },
  {
   "cell_type": "code",
   "execution_count": 7,
   "id": "d13fbc07",
   "metadata": {},
   "outputs": [],
   "source": [
    "threshold = analysis.peak_pick_threshold\n",
    "\n",
    "for chrom in chroms:\n",
    "    for reg in analysis.regions:\n",
    "            peaks = find_peaks_in_region(\n",
    "                chrom, \n",
    "                reg[0], \n",
    "                reg[1], \n",
    "                threshold = threshold,\n",
    "                wlen=10,\n",
    "                distance=10\n",
    "            )\n",
    "            chrom.add_peaks(peaks)"
   ]
  },
  {
   "cell_type": "markdown",
   "id": "ccc5a928",
   "metadata": {},
   "source": [
    "Inspecting peak picking:"
   ]
  },
  {
   "cell_type": "code",
   "execution_count": 8,
   "id": "8b19a2de",
   "metadata": {},
   "outputs": [
    {
     "data": {
      "image/png": "[encoded data removed]",
      "text/plain": [
       "<Figure size 1440x360 with 3 Axes>"
      ]
     },
     "metadata": {
      "needs_background": "light"
     },
     "output_type": "display_data"
    }
   ],
   "source": [
    "fig, axes = plt.subplots(nrows = len(chroms), figsize = (20,5))\n",
    "for ax, chrom in zip(axes, chroms):\n",
    "    time = chrom.time\n",
    "    signal = chrom.signal\n",
    "    ax.plot(time, signal, c = 'k', zorder = 0)\n",
    "    for c,pk in enumerate(chrom.peaks):\n",
    "        peak = chrom.peaks[pk]\n",
    "        idx = peak.indices\n",
    "        ax.plot(time[idx], signal[idx], c= 'r', zorder  = 1)\n",
    "        ax.scatter(peak.retention_time, peak.height, c= 'r', zorder  = 1)\n",
    "plt.show()"
   ]
  },
  {
   "cell_type": "markdown",
   "id": "a115cf4a",
   "metadata": {},
   "source": [
    "The peaks picked in each chromatogram can be converted to Pandas DataFrame objects for further analysis:"
   ]
  },
  {
   "cell_type": "code",
   "execution_count": 9,
   "id": "9d62ef09",
   "metadata": {},
   "outputs": [
    {
     "data": {
      "text/html": [
       "<div>\n",
       "<style scoped>\n",
       "    .dataframe tbody tr th:only-of-type {\n",
       "        vertical-align: middle;\n",
       "    }\n",
       "\n",
       "    .dataframe tbody tr th {\n",
       "        vertical-align: top;\n",
       "    }\n",
       "\n",
       "    .dataframe thead th {\n",
       "        text-align: right;\n",
       "    }\n",
       "</style>\n",
       "<table border=\"1\" class=\"dataframe\">\n",
       "  <thead>\n",
       "    <tr style=\"text-align: right;\">\n",
       "      <th></th>\n",
       "      <th>retention_time</th>\n",
       "      <th>integral</th>\n",
       "      <th>start</th>\n",
       "      <th>end</th>\n",
       "      <th>is_retention_time</th>\n",
       "      <th>is_integral</th>\n",
       "    </tr>\n",
       "  </thead>\n",
       "  <tbody>\n",
       "    <tr>\n",
       "      <th>0</th>\n",
       "      <td>7.813500</td>\n",
       "      <td>7375.790668</td>\n",
       "      <td>7.773625</td>\n",
       "      <td>7.888292</td>\n",
       "      <td>6.720083</td>\n",
       "      <td>2916.542151</td>\n",
       "    </tr>\n",
       "    <tr>\n",
       "      <th>1</th>\n",
       "      <td>7.999625</td>\n",
       "      <td>1775.619826</td>\n",
       "      <td>7.974708</td>\n",
       "      <td>8.047833</td>\n",
       "      <td>6.720083</td>\n",
       "      <td>2916.542151</td>\n",
       "    </tr>\n",
       "    <tr>\n",
       "      <th>2</th>\n",
       "      <td>8.096000</td>\n",
       "      <td>2056.209856</td>\n",
       "      <td>8.062792</td>\n",
       "      <td>8.260500</td>\n",
       "      <td>6.720083</td>\n",
       "      <td>2916.542151</td>\n",
       "    </tr>\n",
       "    <tr>\n",
       "      <th>3</th>\n",
       "      <td>10.395833</td>\n",
       "      <td>2438.641184</td>\n",
       "      <td>10.349292</td>\n",
       "      <td>10.447333</td>\n",
       "      <td>6.720083</td>\n",
       "      <td>2916.542151</td>\n",
       "    </tr>\n",
       "    <tr>\n",
       "      <th>4</th>\n",
       "      <td>10.681625</td>\n",
       "      <td>8939.897195</td>\n",
       "      <td>10.630125</td>\n",
       "      <td>10.744792</td>\n",
       "      <td>6.720083</td>\n",
       "      <td>2916.542151</td>\n",
       "    </tr>\n",
       "  </tbody>\n",
       "</table>\n",
       "</div>"
      ],
      "text/plain": [
       "   retention_time     integral      start        end  is_retention_time  \\\n",
       "0        7.813500  7375.790668   7.773625   7.888292           6.720083   \n",
       "1        7.999625  1775.619826   7.974708   8.047833           6.720083   \n",
       "2        8.096000  2056.209856   8.062792   8.260500           6.720083   \n",
       "3       10.395833  2438.641184  10.349292  10.447333           6.720083   \n",
       "4       10.681625  8939.897195  10.630125  10.744792           6.720083   \n",
       "\n",
       "   is_integral  \n",
       "0  2916.542151  \n",
       "1  2916.542151  \n",
       "2  2916.542151  \n",
       "3  2916.542151  \n",
       "4  2916.542151  "
      ]
     },
     "execution_count": 9,
     "metadata": {},
     "output_type": "execute_result"
    }
   ],
   "source": [
    "from ChromProcess.Writers import chrom_to_df\n",
    "\n",
    "tables = []\n",
    "for c in chroms:\n",
    "    tables.append(chrom_to_df(c))\n",
    "\n",
    "tables[0].head()"
   ]
  },
  {
   "cell_type": "markdown",
   "id": "8efe005e",
   "metadata": {},
   "source": [
    "If you have a series of chromatograms, it may be useful to create a DataFrame containing all of the peak information alongside the variables (e.g. time) of the series."
   ]
  },
  {
   "cell_type": "code",
   "execution_count": 10,
   "id": "632b5f4a",
   "metadata": {},
   "outputs": [
    {
     "name": "stdout",
     "output_type": "stream",
     "text": [
      "   retention_time     integral      start        end  is_retention_time  \\\n",
      "0        7.813500  7375.790668   7.773625   7.888292           6.720083   \n",
      "1        7.999625  1775.619826   7.974708   8.047833           6.720083   \n",
      "2        8.096000  2056.209856   8.062792   8.260500           6.720083   \n",
      "3       10.395833  2438.641184  10.349292  10.447333           6.720083   \n",
      "4       10.681625  8939.897195  10.630125  10.744792           6.720083   \n",
      "\n",
      "   is_integral  time  \n",
      "0  2916.542151  10.0  \n",
      "1  2916.542151  10.0  \n",
      "2  2916.542151  10.0  \n",
      "3  2916.542151  10.0  \n",
      "4  2916.542151  10.0  \n",
      "   retention_time     integral      start        end  is_retention_time  \\\n",
      "3       10.397125  2469.148876  10.352292  10.452000           6.723083   \n",
      "4       10.684625  8953.973987  10.631458  10.722833           6.723083   \n",
      "5       10.852458  1441.494231  10.810917  10.894000           6.723083   \n",
      "6       13.258625  9342.694500  13.187167  13.311792           6.723083   \n",
      "7       13.576000  7690.051387  13.507875  13.647458           6.723083   \n",
      "\n",
      "   is_integral  time  \n",
      "3  2952.209989  30.0  \n",
      "4  2952.209989  30.0  \n",
      "5  2952.209989  30.0  \n",
      "6  2952.209989  30.0  \n",
      "7  2952.209989  30.0  \n"
     ]
    }
   ],
   "source": [
    "import numpy as np\n",
    "import pandas as pd\n",
    "\n",
    "for v, table in zip(conditions.series_values, tables):\n",
    "    table[\"time\"] = np.full(len(table.retention_time), v)\n",
    "\n",
    "series_table = pd.concat(tables, axis=0)\n",
    "print(series_table.head())\n",
    "print(series_table.tail())"
   ]
  },
  {
   "cell_type": "code",
   "execution_count": 11,
   "id": "e9fbc594",
   "metadata": {},
   "outputs": [],
   "source": [
    "fname = r\"..\\Sample_analysis\\Example\\ExperimentalData\\ExamplePeakCollections\\series_peak_table.csv\"\n",
    "series_table.to_csv(fname, index=False)"
   ]
  },
  {
   "cell_type": "markdown",
   "id": "a8f1bcbf",
   "metadata": {},
   "source": [
    "See part 2 for an example of how to analyse peak tables."
   ]
  }
 ],
 "metadata": {
  "interpreter": {
   "hash": "a997ae80aa0286501e47f8248d7ef251844f3cf244f8d29620a956e814500880"
  },
  "kernelspec": {
   "display_name": "chromprocess-env",
   "language": "python",
   "name": "chromprocess-env"
  },
  "language_info": {
   "codemirror_mode": {
    "name": "ipython",
    "version": 3
   },
   "file_extension": ".py",
   "mimetype": "text/x-python",
   "name": "python",
   "nbconvert_exporter": "python",
   "pygments_lexer": "ipython3",
   "version": "3.9.7"
  }
 },
 "nbformat": 4,
 "nbformat_minor": 5
}
